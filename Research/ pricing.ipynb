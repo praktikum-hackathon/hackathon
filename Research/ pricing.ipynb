{
 "cells": [
  {
   "cell_type": "code",
   "execution_count": 1,
   "metadata": {},
   "outputs": [],
   "source": [
    "import pandas as pd"
   ]
  },
  {
   "cell_type": "code",
   "execution_count": 6,
   "metadata": {},
   "outputs": [],
   "source": [
    "url_pets = \"https://raw.githubusercontent.com/praktikum-hackathon/hackathon/dev/Research/data/pets.csv\"\n",
    "url_transactions = \"https://raw.githubusercontent.com/praktikum-hackathon/hackathon/dev/Research/data/transactions.csv\"\n",
    "url_pricing = \"https://raw.githubusercontent.com/praktikum-hackathon/hackathon/dev/Research/data/pricing.csv\""
   ]
  },
  {
   "cell_type": "code",
   "execution_count": 5,
   "metadata": {},
   "outputs": [],
   "source": [
    "pets = pd.read_csv(url_pets)\n",
    "transactions = pd.read_csv(url_transactions)\n"
   ]
  },
  {
   "cell_type": "code",
   "execution_count": null,
   "metadata": {},
   "outputs": [],
   "source": []
  }
 ],
 "metadata": {
  "kernelspec": {
   "display_name": "Python 3",
   "language": "python",
   "name": "python3"
  },
  "language_info": {
   "codemirror_mode": {
    "name": "ipython",
    "version": 3
   },
   "file_extension": ".py",
   "mimetype": "text/x-python",
   "name": "python",
   "nbconvert_exporter": "python",
   "pygments_lexer": "ipython3",
   "version": "3.7.4"
  }
 },
 "nbformat": 4,
 "nbformat_minor": 2
}
