{
 "cells": [
  {
   "cell_type": "code",
   "execution_count": 1,
   "metadata": {},
   "outputs": [],
   "source": [
    "import pandas as pd"
   ]
  },
  {
   "cell_type": "code",
   "execution_count": 2,
   "metadata": {},
   "outputs": [],
   "source": [
    "url_pets = \"https://raw.githubusercontent.com/praktikum-hackathon/hackathon/dev/Research/data/pets.csv\"\n",
    "url_transactions = \"https://raw.githubusercontent.com/praktikum-hackathon/hackathon/dev/Research/data/transactions.csv\"\n",
    "url_pricing = \"https://raw.githubusercontent.com/praktikum-hackathon/hackathon/dev/Research/data/pricing.csv\""
   ]
  },
  {
   "cell_type": "code",
   "execution_count": 3,
   "metadata": {},
   "outputs": [],
   "source": [
    "pets = pd.read_csv(url_pets)\n",
    "transactions = pd.read_csv(url_transactions)\n",
    "pricing = pd.read_csv(url_pricing)"
   ]
  },
  {
   "cell_type": "code",
   "execution_count": 4,
   "metadata": {
    "scrolled": true
   },
   "outputs": [
    {
     "data": {
      "text/plain": [
       "1554"
      ]
     },
     "execution_count": 4,
     "metadata": {},
     "output_type": "execute_result"
    }
   ],
   "source": [
    "len(pets)"
   ]
  },
  {
   "cell_type": "code",
   "execution_count": 5,
   "metadata": {},
   "outputs": [],
   "source": [
    "pets.columns = ['id', 'nickname', 'profile_link', 'shelter', \n",
    "        'city', 'breed', 'type', 'birthday', 'sex', \n",
    "        'favorite', 'home', 'homeless', 'walk']"
   ]
  },
  {
   "cell_type": "code",
   "execution_count": 6,
   "metadata": {},
   "outputs": [],
   "source": [
    "cats = pets[pets['type'] == 'Кошки']"
   ]
  },
  {
   "cell_type": "code",
   "execution_count": 7,
   "metadata": {},
   "outputs": [],
   "source": [
    "cats_female = cats[cats['sex'] == 'девочка']"
   ]
  },
  {
   "cell_type": "code",
   "execution_count": 8,
   "metadata": {},
   "outputs": [],
   "source": [
    "cats_male = cats[cats['sex'] == 'мальчик']"
   ]
  },
  {
   "cell_type": "code",
   "execution_count": 9,
   "metadata": {},
   "outputs": [
    {
     "data": {
      "text/plain": [
       "(812, 587)"
      ]
     },
     "execution_count": 9,
     "metadata": {},
     "output_type": "execute_result"
    }
   ],
   "source": [
    "len(cats_female), len(cats_male)"
   ]
  },
  {
   "cell_type": "code",
   "execution_count": 10,
   "metadata": {},
   "outputs": [],
   "source": [
    "cats_male_home = cats_male[cats_male['home'] == 1]"
   ]
  },
  {
   "cell_type": "code",
   "execution_count": 11,
   "metadata": {},
   "outputs": [],
   "source": [
    "cats_male_homeless = cats_male[cats_male['home'] != 1]"
   ]
  },
  {
   "cell_type": "code",
   "execution_count": 12,
   "metadata": {},
   "outputs": [],
   "source": [
    "cats_female_home = cats_female[cats_female['home'] == 1]"
   ]
  },
  {
   "cell_type": "code",
   "execution_count": 13,
   "metadata": {},
   "outputs": [],
   "source": [
    "cats_female_homeless = cats_female[cats_female['home'] != 1]"
   ]
  },
  {
   "cell_type": "code",
   "execution_count": 14,
   "metadata": {},
   "outputs": [
    {
     "data": {
      "text/plain": [
       "812"
      ]
     },
     "execution_count": 14,
     "metadata": {},
     "output_type": "execute_result"
    }
   ],
   "source": [
    "len(cats_female_homeless) + len(cats_female_home)"
   ]
  },
  {
   "cell_type": "code",
   "execution_count": 15,
   "metadata": {},
   "outputs": [
    {
     "data": {
      "text/plain": [
       "587"
      ]
     },
     "execution_count": 15,
     "metadata": {},
     "output_type": "execute_result"
    }
   ],
   "source": [
    "len(cats_male_homeless) + len(cats_male_home)"
   ]
  },
  {
   "cell_type": "code",
   "execution_count": 16,
   "metadata": {},
   "outputs": [
    {
     "data": {
      "text/plain": [
       "(466, 607)"
      ]
     },
     "execution_count": 16,
     "metadata": {},
     "output_type": "execute_result"
    }
   ],
   "source": [
    "len(cats_male_home), len(cats_female_home)"
   ]
  },
  {
   "cell_type": "code",
   "execution_count": 17,
   "metadata": {},
   "outputs": [
    {
     "data": {
      "text/plain": [
       "(121, 205)"
      ]
     },
     "execution_count": 17,
     "metadata": {},
     "output_type": "execute_result"
    }
   ],
   "source": [
    "len(cats_male_homeless), len(cats_female_homeless)"
   ]
  },
  {
   "cell_type": "code",
   "execution_count": 18,
   "metadata": {},
   "outputs": [
    {
     "data": {
      "text/plain": [
       "(587, 812)"
      ]
     },
     "execution_count": 18,
     "metadata": {},
     "output_type": "execute_result"
    }
   ],
   "source": [
    "len(cats_male), len(cats_female)"
   ]
  },
  {
   "cell_type": "code",
   "execution_count": 19,
   "metadata": {},
   "outputs": [],
   "source": [
    "data = {'male': [len(cats_male_home),len(cats_male_homeless)],\n",
    "'female': [len(cats_female_home),len(cats_female_homeless)]}\n",
    "\n",
    "sex_home = pd.DataFrame(data, columns = ['male', 'female'], index=['home', 'homeless'])"
   ]
  },
  {
   "cell_type": "code",
   "execution_count": 20,
   "metadata": {},
   "outputs": [],
   "source": [
    "sex_home = sex_home.T"
   ]
  },
  {
   "cell_type": "code",
   "execution_count": 21,
   "metadata": {},
   "outputs": [
    {
     "data": {
      "text/html": [
       "<div>\n",
       "<style scoped>\n",
       "    .dataframe tbody tr th:only-of-type {\n",
       "        vertical-align: middle;\n",
       "    }\n",
       "\n",
       "    .dataframe tbody tr th {\n",
       "        vertical-align: top;\n",
       "    }\n",
       "\n",
       "    .dataframe thead th {\n",
       "        text-align: right;\n",
       "    }\n",
       "</style>\n",
       "<table border=\"1\" class=\"dataframe\">\n",
       "  <thead>\n",
       "    <tr style=\"text-align: right;\">\n",
       "      <th></th>\n",
       "      <th>home</th>\n",
       "      <th>homeless</th>\n",
       "    </tr>\n",
       "  </thead>\n",
       "  <tbody>\n",
       "    <tr>\n",
       "      <td>male</td>\n",
       "      <td>466</td>\n",
       "      <td>121</td>\n",
       "    </tr>\n",
       "    <tr>\n",
       "      <td>female</td>\n",
       "      <td>607</td>\n",
       "      <td>205</td>\n",
       "    </tr>\n",
       "  </tbody>\n",
       "</table>\n",
       "</div>"
      ],
      "text/plain": [
       "        home  homeless\n",
       "male     466       121\n",
       "female   607       205"
      ]
     },
     "execution_count": 21,
     "metadata": {},
     "output_type": "execute_result"
    }
   ],
   "source": [
    "sex_home"
   ]
  },
  {
   "cell_type": "code",
   "execution_count": 22,
   "metadata": {},
   "outputs": [],
   "source": [
    "sex_home['total'] = sex_home['home'] + sex_home['homeless']"
   ]
  },
  {
   "cell_type": "code",
   "execution_count": 23,
   "metadata": {},
   "outputs": [],
   "source": [
    "sex_home['home_ratio'] = sex_home['home'] / sex_home['total']"
   ]
  },
  {
   "cell_type": "code",
   "execution_count": 24,
   "metadata": {},
   "outputs": [
    {
     "data": {
      "text/html": [
       "<div>\n",
       "<style scoped>\n",
       "    .dataframe tbody tr th:only-of-type {\n",
       "        vertical-align: middle;\n",
       "    }\n",
       "\n",
       "    .dataframe tbody tr th {\n",
       "        vertical-align: top;\n",
       "    }\n",
       "\n",
       "    .dataframe thead th {\n",
       "        text-align: right;\n",
       "    }\n",
       "</style>\n",
       "<table border=\"1\" class=\"dataframe\">\n",
       "  <thead>\n",
       "    <tr style=\"text-align: right;\">\n",
       "      <th></th>\n",
       "      <th>home</th>\n",
       "      <th>homeless</th>\n",
       "      <th>total</th>\n",
       "      <th>home_ratio</th>\n",
       "    </tr>\n",
       "  </thead>\n",
       "  <tbody>\n",
       "    <tr>\n",
       "      <td>male</td>\n",
       "      <td>466</td>\n",
       "      <td>121</td>\n",
       "      <td>587</td>\n",
       "      <td>0.793867</td>\n",
       "    </tr>\n",
       "    <tr>\n",
       "      <td>female</td>\n",
       "      <td>607</td>\n",
       "      <td>205</td>\n",
       "      <td>812</td>\n",
       "      <td>0.747537</td>\n",
       "    </tr>\n",
       "  </tbody>\n",
       "</table>\n",
       "</div>"
      ],
      "text/plain": [
       "        home  homeless  total  home_ratio\n",
       "male     466       121    587    0.793867\n",
       "female   607       205    812    0.747537"
      ]
     },
     "execution_count": 24,
     "metadata": {},
     "output_type": "execute_result"
    }
   ],
   "source": [
    "sex_home"
   ]
  },
  {
   "cell_type": "code",
   "execution_count": 25,
   "metadata": {},
   "outputs": [],
   "source": [
    "sex_home['homeless_ratio'] = sex_home['homeless'] / sex_home['total']"
   ]
  },
  {
   "cell_type": "code",
   "execution_count": 26,
   "metadata": {},
   "outputs": [
    {
     "data": {
      "text/plain": [
       "1399"
      ]
     },
     "execution_count": 26,
     "metadata": {},
     "output_type": "execute_result"
    }
   ],
   "source": [
    "len(cats)"
   ]
  },
  {
   "cell_type": "code",
   "execution_count": 27,
   "metadata": {},
   "outputs": [],
   "source": [
    "sex_home.to_csv('distribution_by_sex')"
   ]
  },
  {
   "cell_type": "code",
   "execution_count": 28,
   "metadata": {},
   "outputs": [],
   "source": [
    "import matplotlib.pyplot as plt"
   ]
  },
  {
   "cell_type": "code",
   "execution_count": 29,
   "metadata": {},
   "outputs": [
    {
     "data": {
      "image/png": "[encoded data removed]",
      "text/plain": [
       "<Figure size 432x288 with 1 Axes>"
      ]
     },
     "metadata": {},
     "output_type": "display_data"
    }
   ],
   "source": [
    "import matplotlib.pyplot as plt\n",
    "\n",
    "# Pie chart, where the slices will be ordered and plotted counter-clockwise:\n",
    "labels = ['male_homeless', 'male_home', 'female_homeless', 'female_home']\n",
    "sizes = [sex_home['homeless']['male'], sex_home['home']['male'], sex_home['homeless']['female'], sex_home['home']['female']]\n",
    "explode = (0, 0, 0,0)  # only \"explode\" the 2nd slice (i.e. 'Hogs')\n",
    "\n",
    "fig, ax = plt.subplots()\n",
    "ax.pie(sizes, explode=explode, labels=labels, autopct='%1.1f%%',\n",
    "        shadow=False, startangle=90)\n",
    "ax.axis('equal')  # Equal aspect ratio ensures that pie is drawn as a circle.\n",
    "\n",
    "\n",
    "plt.show()"
   ]
  },
  {
   "cell_type": "code",
   "execution_count": 30,
   "metadata": {},
   "outputs": [],
   "source": [
    "sex_home = sex_home.T[0:2]"
   ]
  },
  {
   "cell_type": "code",
   "execution_count": 31,
   "metadata": {},
   "outputs": [],
   "source": [
    "sex_home.to_csv('distribution_by_sex.csv')"
   ]
  },
  {
   "cell_type": "code",
   "execution_count": 32,
   "metadata": {},
   "outputs": [
    {
     "data": {
      "image/png": "[encoded data removed]",
      "text/plain": [
       "<Figure size 432x288 with 1 Axes>"
      ]
     },
     "metadata": {},
     "output_type": "display_data"
    }
   ],
   "source": [
    "sex_home.plot(kind='pie', y='male', startangle=90)\n",
    "plt.show()"
   ]
  },
  {
   "cell_type": "code",
   "execution_count": 33,
   "metadata": {},
   "outputs": [
    {
     "data": {
      "image/png": "[encoded data removed]",
      "text/plain": [
       "<Figure size 432x288 with 1 Axes>"
      ]
     },
     "metadata": {},
     "output_type": "display_data"
    }
   ],
   "source": [
    "sex_home.plot(kind='pie', y='female', startangle=90)\n",
    "\n",
    "plt.show()"
   ]
  },
  {
   "cell_type": "code",
   "execution_count": 34,
   "metadata": {},
   "outputs": [],
   "source": [
    "import plotly.express as px"
   ]
  },
  {
   "cell_type": "code",
   "execution_count": 35,
   "metadata": {},
   "outputs": [
    {
     "data": {
      "text/html": [
       "<div>\n",
       "<style scoped>\n",
       "    .dataframe tbody tr th:only-of-type {\n",
       "        vertical-align: middle;\n",
       "    }\n",
       "\n",
       "    .dataframe tbody tr th {\n",
       "        vertical-align: top;\n",
       "    }\n",
       "\n",
       "    .dataframe thead th {\n",
       "        text-align: right;\n",
       "    }\n",
       "</style>\n",
       "<table border=\"1\" class=\"dataframe\">\n",
       "  <thead>\n",
       "    <tr style=\"text-align: right;\">\n",
       "      <th></th>\n",
       "      <th>male</th>\n",
       "      <th>female</th>\n",
       "    </tr>\n",
       "  </thead>\n",
       "  <tbody>\n",
       "    <tr>\n",
       "      <td>home</td>\n",
       "      <td>466.0</td>\n",
       "      <td>607.0</td>\n",
       "    </tr>\n",
       "    <tr>\n",
       "      <td>homeless</td>\n",
       "      <td>121.0</td>\n",
       "      <td>205.0</td>\n",
       "    </tr>\n",
       "  </tbody>\n",
       "</table>\n",
       "</div>"
      ],
      "text/plain": [
       "           male  female\n",
       "home      466.0   607.0\n",
       "homeless  121.0   205.0"
      ]
     },
     "execution_count": 35,
     "metadata": {},
     "output_type": "execute_result"
    }
   ],
   "source": [
    "sex_home"
   ]
  },
  {
   "cell_type": "code",
   "execution_count": null,
   "metadata": {},
   "outputs": [],
   "source": [
    "sex_home.to_csv('')"
   ]
  },
  {
   "cell_type": "code",
   "execution_count": 36,
   "metadata": {},
   "outputs": [],
   "source": [
    "sex_home.columns = ['мальчики', 'девочки']\n",
    "sex_home.index = ['с домом', 'без дома']"
   ]
  },
  {
   "cell_type": "code",
   "execution_count": 54,
   "metadata": {},
   "outputs": [],
   "source": [
    "sex_home.to_csv('distribution_by_sex_ru.csv')"
   ]
  },
  {
   "cell_type": "code",
   "execution_count": 49,
   "metadata": {},
   "outputs": [],
   "source": [
    "colors = ['yellowgreen', 'lightcoral'] "
   ]
  },
  {
   "cell_type": "code",
   "execution_count": 50,
   "metadata": {},
   "outputs": [
    {
     "data": {
      "application/vnd.plotly.v1+json": {
       "config": {
        "plotlyServerURL": "https://plot.ly"
       },
       "data": [
        {
         "domain": {
          "x": [
           0,
           1
          ],
          "y": [
           0,
           1
          ]
         },
         "hole": 0.4,
         "hovertemplate": "index=%{label}<br>мальчики=%{value}<extra></extra>",
         "labels": [
          "с домом",
          "без дома"
         ],
         "legendgroup": "",
         "marker": {
          "colors": [
           "yellowgreen",
           "lightcoral"
          ],
          "line": {
           "color": "#000000",
           "width": 1
          }
         },
         "name": "",
         "showlegend": true,
         "textfont": {
          "size": 15
         },
         "textinfo": "percent+label",
         "textposition": "inside",
         "type": "pie",
         "values": [
          466,
          121
         ]
        }
       ],
       "layout": {
        "annotations": [
         {
          "font": {
           "size": 16
          },
          "showarrow": false,
          "text": "Всего",
          "x": 0.5,
          "y": 0.53
         },
         {
          "font": {
           "size": 18
          },
          "showarrow": false,
          "text": "587",
          "x": 0.5,
          "y": 0.48
         }
        ],
        "legend": {
         "orientation": "h",
         "tracegroupgap": 0,
         "x": 0.5,
         "xanchor": "center",
         "y": 0,
         "yanchor": "top"
        },
        "margin": {
         "b": 0,
         "l": 0,
         "r": 0,
         "t": 30
        },
        "template": {
         "data": {
          "bar": [
           {
            "error_x": {
             "color": "#2a3f5f"
            },
            "error_y": {
             "color": "#2a3f5f"
            },
            "marker": {
             "line": {
              "color": "#E5ECF6",
              "width": 0.5
             }
            },
            "type": "bar"
           }
          ],
          "barpolar": [
           {
            "marker": {
             "line": {
              "color": "#E5ECF6",
              "width": 0.5
             }
            },
            "type": "barpolar"
           }
          ],
          "carpet": [
           {
            "aaxis": {
             "endlinecolor": "#2a3f5f",
             "gridcolor": "white",
             "linecolor": "white",
             "minorgridcolor": "white",
             "startlinecolor": "#2a3f5f"
            },
            "baxis": {
             "endlinecolor": "#2a3f5f",
             "gridcolor": "white",
             "linecolor": "white",
             "minorgridcolor": "white",
             "startlinecolor": "#2a3f5f"
            },
            "type": "carpet"
           }
          ],
          "choropleth": [
           {
            "colorbar": {
             "outlinewidth": 0,
             "ticks": ""
            },
            "type": "choropleth"
           }
          ],
          "contour": [
           {
            "colorbar": {
             "outlinewidth": 0,
             "ticks": ""
            },
            "colorscale": [
             [
              0,
              "#0d0887"
             ],
             [
              0.1111111111111111,
              "#46039f"
             ],
             [
              0.2222222222222222,
              "#7201a8"
             ],
             [
              0.3333333333333333,
              "#9c179e"
             ],
             [
              0.4444444444444444,
              "#bd3786"
             ],
             [
              0.5555555555555556,
              "#d8576b"
             ],
             [
              0.6666666666666666,
              "#ed7953"
             ],
             [
              0.7777777777777778,
              "#fb9f3a"
             ],
             [
              0.8888888888888888,
              "#fdca26"
             ],
             [
              1,
              "#f0f921"
             ]
            ],
            "type": "contour"
           }
          ],
          "contourcarpet": [
           {
            "colorbar": {
             "outlinewidth": 0,
             "ticks": ""
            },
            "type": "contourcarpet"
           }
          ],
          "heatmap": [
           {
            "colorbar": {
             "outlinewidth": 0,
             "ticks": ""
            },
            "colorscale": [
             [
              0,
              "#0d0887"
             ],
             [
              0.1111111111111111,
              "#46039f"
             ],
             [
              0.2222222222222222,
              "#7201a8"
             ],
             [
              0.3333333333333333,
              "#9c179e"
             ],
             [
              0.4444444444444444,
              "#bd3786"
             ],
             [
              0.5555555555555556,
              "#d8576b"
             ],
             [
              0.6666666666666666,
              "#ed7953"
             ],
             [
              0.7777777777777778,
              "#fb9f3a"
             ],
             [
              0.8888888888888888,
              "#fdca26"
             ],
             [
              1,
              "#f0f921"
             ]
            ],
            "type": "heatmap"
           }
          ],
          "heatmapgl": [
           {
            "colorbar": {
             "outlinewidth": 0,
             "ticks": ""
            },
            "colorscale": [
             [
              0,
              "#0d0887"
             ],
             [
              0.1111111111111111,
              "#46039f"
             ],
             [
              0.2222222222222222,
              "#7201a8"
             ],
             [
              0.3333333333333333,
              "#9c179e"
             ],
             [
              0.4444444444444444,
              "#bd3786"
             ],
             [
              0.5555555555555556,
              "#d8576b"
             ],
             [
              0.6666666666666666,
              "#ed7953"
             ],
             [
              0.7777777777777778,
              "#fb9f3a"
             ],
             [
              0.8888888888888888,
              "#fdca26"
             ],
             [
              1,
              "#f0f921"
             ]
            ],
            "type": "heatmapgl"
           }
          ],
          "histogram": [
           {
            "marker": {
             "colorbar": {
              "outlinewidth": 0,
              "ticks": ""
             }
            },
            "type": "histogram"
           }
          ],
          "histogram2d": [
           {
            "colorbar": {
             "outlinewidth": 0,
             "ticks": ""
            },
            "colorscale": [
             [
              0,
              "#0d0887"
             ],
             [
              0.1111111111111111,
              "#46039f"
             ],
             [
              0.2222222222222222,
              "#7201a8"
             ],
             [
              0.3333333333333333,
              "#9c179e"
             ],
             [
              0.4444444444444444,
              "#bd3786"
             ],
             [
              0.5555555555555556,
              "#d8576b"
             ],
             [
              0.6666666666666666,
              "#ed7953"
             ],
             [
              0.7777777777777778,
              "#fb9f3a"
             ],
             [
              0.8888888888888888,
              "#fdca26"
             ],
             [
              1,
              "#f0f921"
             ]
            ],
            "type": "histogram2d"
           }
          ],
          "histogram2dcontour": [
           {
            "colorbar": {
             "outlinewidth": 0,
             "ticks": ""
            },
            "colorscale": [
             [
              0,
              "#0d0887"
             ],
             [
              0.1111111111111111,
              "#46039f"
             ],
             [
              0.2222222222222222,
              "#7201a8"
             ],
             [
              0.3333333333333333,
              "#9c179e"
             ],
             [
              0.4444444444444444,
              "#bd3786"
             ],
             [
              0.5555555555555556,
              "#d8576b"
             ],
             [
              0.6666666666666666,
              "#ed7953"
             ],
             [
              0.7777777777777778,
              "#fb9f3a"
             ],
             [
              0.8888888888888888,
              "#fdca26"
             ],
             [
              1,
              "#f0f921"
             ]
            ],
            "type": "histogram2dcontour"
           }
          ],
          "mesh3d": [
           {
            "colorbar": {
             "outlinewidth": 0,
             "ticks": ""
            },
            "type": "mesh3d"
           }
          ],
          "parcoords": [
           {
            "line": {
             "colorbar": {
              "outlinewidth": 0,
              "ticks": ""
             }
            },
            "type": "parcoords"
           }
          ],
          "pie": [
           {
            "automargin": true,
            "type": "pie"
           }
          ],
          "scatter": [
           {
            "marker": {
             "colorbar": {
              "outlinewidth": 0,
              "ticks": ""
             }
            },
            "type": "scatter"
           }
          ],
          "scatter3d": [
           {
            "line": {
             "colorbar": {
              "outlinewidth": 0,
              "ticks": ""
             }
            },
            "marker": {
             "colorbar": {
              "outlinewidth": 0,
              "ticks": ""
             }
            },
            "type": "scatter3d"
           }
          ],
          "scattercarpet": [
           {
            "marker": {
             "colorbar": {
              "outlinewidth": 0,
              "ticks": ""
             }
            },
            "type": "scattercarpet"
           }
          ],
          "scattergeo": [
           {
            "marker": {
             "colorbar": {
              "outlinewidth": 0,
              "ticks": ""
             }
            },
            "type": "scattergeo"
           }
          ],
          "scattergl": [
           {
            "marker": {
             "colorbar": {
              "outlinewidth": 0,
              "ticks": ""
             }
            },
            "type": "scattergl"
           }
          ],
          "scattermapbox": [
           {
            "marker": {
             "colorbar": {
              "outlinewidth": 0,
              "ticks": ""
             }
            },
            "type": "scattermapbox"
           }
          ],
          "scatterpolar": [
           {
            "marker": {
             "colorbar": {
              "outlinewidth": 0,
              "ticks": ""
             }
            },
            "type": "scatterpolar"
           }
          ],
          "scatterpolargl": [
           {
            "marker": {
             "colorbar": {
              "outlinewidth": 0,
              "ticks": ""
             }
            },
            "type": "scatterpolargl"
           }
          ],
          "scatterternary": [
           {
            "marker": {
             "colorbar": {
              "outlinewidth": 0,
              "ticks": ""
             }
            },
            "type": "scatterternary"
           }
          ],
          "surface": [
           {
            "colorbar": {
             "outlinewidth": 0,
             "ticks": ""
            },
            "colorscale": [
             [
              0,
              "#0d0887"
             ],
             [
              0.1111111111111111,
              "#46039f"
             ],
             [
              0.2222222222222222,
              "#7201a8"
             ],
             [
              0.3333333333333333,
              "#9c179e"
             ],
             [
              0.4444444444444444,
              "#bd3786"
             ],
             [
              0.5555555555555556,
              "#d8576b"
             ],
             [
              0.6666666666666666,
              "#ed7953"
             ],
             [
              0.7777777777777778,
              "#fb9f3a"
             ],
             [
              0.8888888888888888,
              "#fdca26"
             ],
             [
              1,
              "#f0f921"
             ]
            ],
            "type": "surface"
           }
          ],
          "table": [
           {
            "cells": {
             "fill": {
              "color": "#EBF0F8"
             },
             "line": {
              "color": "white"
             }
            },
            "header": {
             "fill": {
              "color": "#C8D4E3"
             },
             "line": {
              "color": "white"
             }
            },
            "type": "table"
           }
          ]
         },
         "layout": {
          "annotationdefaults": {
           "arrowcolor": "#2a3f5f",
           "arrowhead": 0,
           "arrowwidth": 1
          },
          "coloraxis": {
           "colorbar": {
            "outlinewidth": 0,
            "ticks": ""
           }
          },
          "colorscale": {
           "diverging": [
            [
             0,
             "#8e0152"
            ],
            [
             0.1,
             "#c51b7d"
            ],
            [
             0.2,
             "#de77ae"
            ],
            [
             0.3,
             "#f1b6da"
            ],
            [
             0.4,
             "#fde0ef"
            ],
            [
             0.5,
             "#f7f7f7"
            ],
            [
             0.6,
             "#e6f5d0"
            ],
            [
             0.7,
             "#b8e186"
            ],
            [
             0.8,
             "#7fbc41"
            ],
            [
             0.9,
             "#4d9221"
            ],
            [
             1,
             "#276419"
            ]
           ],
           "sequential": [
            [
             0,
             "#0d0887"
            ],
            [
             0.1111111111111111,
             "#46039f"
            ],
            [
             0.2222222222222222,
             "#7201a8"
            ],
            [
             0.3333333333333333,
             "#9c179e"
            ],
            [
             0.4444444444444444,
             "#bd3786"
            ],
            [
             0.5555555555555556,
             "#d8576b"
            ],
            [
             0.6666666666666666,
             "#ed7953"
            ],
            [
             0.7777777777777778,
             "#fb9f3a"
            ],
            [
             0.8888888888888888,
             "#fdca26"
            ],
            [
             1,
             "#f0f921"
            ]
           ],
           "sequentialminus": [
            [
             0,
             "#0d0887"
            ],
            [
             0.1111111111111111,
             "#46039f"
            ],
            [
             0.2222222222222222,
             "#7201a8"
            ],
            [
             0.3333333333333333,
             "#9c179e"
            ],
            [
             0.4444444444444444,
             "#bd3786"
            ],
            [
             0.5555555555555556,
             "#d8576b"
            ],
            [
             0.6666666666666666,
             "#ed7953"
            ],
            [
             0.7777777777777778,
             "#fb9f3a"
            ],
            [
             0.8888888888888888,
             "#fdca26"
            ],
            [
             1,
             "#f0f921"
            ]
           ]
          },
          "colorway": [
           "#636efa",
           "#EF553B",
           "#00cc96",
           "#ab63fa",
           "#FFA15A",
           "#19d3f3",
           "#FF6692",
           "#B6E880",
           "#FF97FF",
           "#FECB52"
          ],
          "font": {
           "color": "#2a3f5f"
          },
          "geo": {
           "bgcolor": "white",
           "lakecolor": "white",
           "landcolor": "#E5ECF6",
           "showlakes": true,
           "showland": true,
           "subunitcolor": "white"
          },
          "hoverlabel": {
           "align": "left"
          },
          "hovermode": "closest",
          "mapbox": {
           "style": "light"
          },
          "paper_bgcolor": "white",
          "plot_bgcolor": "#E5ECF6",
          "polar": {
           "angularaxis": {
            "gridcolor": "white",
            "linecolor": "white",
            "ticks": ""
           },
           "bgcolor": "#E5ECF6",
           "radialaxis": {
            "gridcolor": "white",
            "linecolor": "white",
            "ticks": ""
           }
          },
          "scene": {
           "xaxis": {
            "backgroundcolor": "#E5ECF6",
            "gridcolor": "white",
            "gridwidth": 2,
            "linecolor": "white",
            "showbackground": true,
            "ticks": "",
            "zerolinecolor": "white"
           },
           "yaxis": {
            "backgroundcolor": "#E5ECF6",
            "gridcolor": "white",
            "gridwidth": 2,
            "linecolor": "white",
            "showbackground": true,
            "ticks": "",
            "zerolinecolor": "white"
           },
           "zaxis": {
            "backgroundcolor": "#E5ECF6",
            "gridcolor": "white",
            "gridwidth": 2,
            "linecolor": "white",
            "showbackground": true,
            "ticks": "",
            "zerolinecolor": "white"
           }
          },
          "shapedefaults": {
           "line": {
            "color": "#2a3f5f"
           }
          },
          "ternary": {
           "aaxis": {
            "gridcolor": "white",
            "linecolor": "white",
            "ticks": ""
           },
           "baxis": {
            "gridcolor": "white",
            "linecolor": "white",
            "ticks": ""
           },
           "bgcolor": "#E5ECF6",
           "caxis": {
            "gridcolor": "white",
            "linecolor": "white",
            "ticks": ""
           }
          },
          "title": {
           "x": 0.05
          },
          "xaxis": {
           "automargin": true,
           "gridcolor": "white",
           "linecolor": "white",
           "ticks": "",
           "title": {
            "standoff": 15
           },
           "zerolinecolor": "white",
           "zerolinewidth": 2
          },
          "yaxis": {
           "automargin": true,
           "gridcolor": "white",
           "linecolor": "white",
           "ticks": "",
           "title": {
            "standoff": 15
           },
           "zerolinecolor": "white",
           "zerolinewidth": 2
          }
         }
        },
        "title": {
         "font": {
          "color": "darkgoldenrod",
          "size": 18
         },
         "text": "<b>Мальчики с домом, без дома</b>",
         "x": 0.5
        }
       }
      },
      "text/html": [
       "<div>                            <div id=\"3d394fdd-6d30-4f0c-912e-7de6716afa7c\" class=\"plotly-graph-div\" style=\"height:525px; width:100%;\"></div>            <script type=\"text/javascript\">                require([\"plotly\"], function(Plotly) {                    window.PLOTLYENV=window.PLOTLYENV || {};                                    if (document.getElementById(\"3d394fdd-6d30-4f0c-912e-7de6716afa7c\")) {                    Plotly.newPlot(                        \"3d394fdd-6d30-4f0c-912e-7de6716afa7c\",                        [{\"domain\": {\"x\": [0.0, 1.0], \"y\": [0.0, 1.0]}, \"hole\": 0.4, \"hovertemplate\": \"index=%{label}<br>\\u043c\\u0430\\u043b\\u044c\\u0447\\u0438\\u043a\\u0438=%{value}<extra></extra>\", \"labels\": [\"\\u0441 \\u0434\\u043e\\u043c\\u043e\\u043c\", \"\\u0431\\u0435\\u0437 \\u0434\\u043e\\u043c\\u0430\"], \"legendgroup\": \"\", \"marker\": {\"colors\": [\"yellowgreen\", \"lightcoral\"], \"line\": {\"color\": \"#000000\", \"width\": 1}}, \"name\": \"\", \"showlegend\": true, \"textfont\": {\"size\": 15}, \"textinfo\": \"percent+label\", \"textposition\": \"inside\", \"type\": \"pie\", \"values\": [466.0, 121.0]}],                        {\"annotations\": [{\"font\": {\"size\": 16}, \"showarrow\": false, \"text\": \"\\u0412\\u0441\\u0435\\u0433\\u043e\", \"x\": 0.5, \"y\": 0.53}, {\"font\": {\"size\": 18}, \"showarrow\": false, \"text\": \"587\", \"x\": 0.5, \"y\": 0.48}], \"legend\": {\"orientation\": \"h\", \"tracegroupgap\": 0, \"x\": 0.5, \"xanchor\": \"center\", \"y\": 0, \"yanchor\": \"top\"}, \"margin\": {\"b\": 0, \"l\": 0, \"r\": 0, \"t\": 30}, \"template\": {\"data\": {\"bar\": [{\"error_x\": {\"color\": \"#2a3f5f\"}, \"error_y\": {\"color\": \"#2a3f5f\"}, \"marker\": {\"line\": {\"color\": \"#E5ECF6\", \"width\": 0.5}}, \"type\": \"bar\"}], \"barpolar\": [{\"marker\": {\"line\": {\"color\": \"#E5ECF6\", \"width\": 0.5}}, \"type\": \"barpolar\"}], \"carpet\": [{\"aaxis\": {\"endlinecolor\": \"#2a3f5f\", \"gridcolor\": \"white\", \"linecolor\": \"white\", \"minorgridcolor\": \"white\", \"startlinecolor\": \"#2a3f5f\"}, \"baxis\": {\"endlinecolor\": \"#2a3f5f\", \"gridcolor\": \"white\", \"linecolor\": \"white\", \"minorgridcolor\": \"white\", \"startlinecolor\": \"#2a3f5f\"}, \"type\": \"carpet\"}], \"choropleth\": [{\"colorbar\": {\"outlinewidth\": 0, \"ticks\": \"\"}, \"type\": \"choropleth\"}], \"contour\": [{\"colorbar\": {\"outlinewidth\": 0, \"ticks\": \"\"}, \"colorscale\": [[0.0, \"#0d0887\"], [0.1111111111111111, \"#46039f\"], [0.2222222222222222, \"#7201a8\"], [0.3333333333333333, \"#9c179e\"], [0.4444444444444444, \"#bd3786\"], [0.5555555555555556, \"#d8576b\"], [0.6666666666666666, \"#ed7953\"], [0.7777777777777778, \"#fb9f3a\"], [0.8888888888888888, \"#fdca26\"], [1.0, \"#f0f921\"]], \"type\": \"contour\"}], \"contourcarpet\": [{\"colorbar\": {\"outlinewidth\": 0, \"ticks\": \"\"}, \"type\": \"contourcarpet\"}], \"heatmap\": [{\"colorbar\": {\"outlinewidth\": 0, \"ticks\": \"\"}, \"colorscale\": [[0.0, \"#0d0887\"], [0.1111111111111111, \"#46039f\"], [0.2222222222222222, \"#7201a8\"], [0.3333333333333333, \"#9c179e\"], [0.4444444444444444, \"#bd3786\"], [0.5555555555555556, \"#d8576b\"], [0.6666666666666666, \"#ed7953\"], [0.7777777777777778, \"#fb9f3a\"], [0.8888888888888888, \"#fdca26\"], [1.0, \"#f0f921\"]], \"type\": \"heatmap\"}], \"heatmapgl\": [{\"colorbar\": {\"outlinewidth\": 0, \"ticks\": \"\"}, \"colorscale\": [[0.0, \"#0d0887\"], [0.1111111111111111, \"#46039f\"], [0.2222222222222222, \"#7201a8\"], [0.3333333333333333, \"#9c179e\"], [0.4444444444444444, \"#bd3786\"], [0.5555555555555556, \"#d8576b\"], [0.6666666666666666, \"#ed7953\"], [0.7777777777777778, \"#fb9f3a\"], [0.8888888888888888, \"#fdca26\"], [1.0, \"#f0f921\"]], \"type\": \"heatmapgl\"}], \"histogram\": [{\"marker\": {\"colorbar\": {\"outlinewidth\": 0, \"ticks\": \"\"}}, \"type\": \"histogram\"}], \"histogram2d\": [{\"colorbar\": {\"outlinewidth\": 0, \"ticks\": \"\"}, \"colorscale\": [[0.0, \"#0d0887\"], [0.1111111111111111, \"#46039f\"], [0.2222222222222222, \"#7201a8\"], [0.3333333333333333, \"#9c179e\"], [0.4444444444444444, \"#bd3786\"], [0.5555555555555556, \"#d8576b\"], [0.6666666666666666, \"#ed7953\"], [0.7777777777777778, \"#fb9f3a\"], [0.8888888888888888, \"#fdca26\"], [1.0, \"#f0f921\"]], \"type\": \"histogram2d\"}], \"histogram2dcontour\": [{\"colorbar\": {\"outlinewidth\": 0, \"ticks\": \"\"}, \"colorscale\": [[0.0, \"#0d0887\"], [0.1111111111111111, \"#46039f\"], [0.2222222222222222, \"#7201a8\"], [0.3333333333333333, \"#9c179e\"], [0.4444444444444444, \"#bd3786\"], [0.5555555555555556, \"#d8576b\"], [0.6666666666666666, \"#ed7953\"], [0.7777777777777778, \"#fb9f3a\"], [0.8888888888888888, \"#fdca26\"], [1.0, \"#f0f921\"]], \"type\": \"histogram2dcontour\"}], \"mesh3d\": [{\"colorbar\": {\"outlinewidth\": 0, \"ticks\": \"\"}, \"type\": \"mesh3d\"}], \"parcoords\": [{\"line\": {\"colorbar\": {\"outlinewidth\": 0, \"ticks\": \"\"}}, \"type\": \"parcoords\"}], \"pie\": [{\"automargin\": true, \"type\": \"pie\"}], \"scatter\": [{\"marker\": {\"colorbar\": {\"outlinewidth\": 0, \"ticks\": \"\"}}, \"type\": \"scatter\"}], \"scatter3d\": [{\"line\": {\"colorbar\": {\"outlinewidth\": 0, \"ticks\": \"\"}}, \"marker\": {\"colorbar\": {\"outlinewidth\": 0, \"ticks\": \"\"}}, \"type\": \"scatter3d\"}], \"scattercarpet\": [{\"marker\": {\"colorbar\": {\"outlinewidth\": 0, \"ticks\": \"\"}}, \"type\": \"scattercarpet\"}], \"scattergeo\": [{\"marker\": {\"colorbar\": {\"outlinewidth\": 0, \"ticks\": \"\"}}, \"type\": \"scattergeo\"}], \"scattergl\": [{\"marker\": {\"colorbar\": {\"outlinewidth\": 0, \"ticks\": \"\"}}, \"type\": \"scattergl\"}], \"scattermapbox\": [{\"marker\": {\"colorbar\": {\"outlinewidth\": 0, \"ticks\": \"\"}}, \"type\": \"scattermapbox\"}], \"scatterpolar\": [{\"marker\": {\"colorbar\": {\"outlinewidth\": 0, \"ticks\": \"\"}}, \"type\": \"scatterpolar\"}], \"scatterpolargl\": [{\"marker\": {\"colorbar\": {\"outlinewidth\": 0, \"ticks\": \"\"}}, \"type\": \"scatterpolargl\"}], \"scatterternary\": [{\"marker\": {\"colorbar\": {\"outlinewidth\": 0, \"ticks\": \"\"}}, \"type\": \"scatterternary\"}], \"surface\": [{\"colorbar\": {\"outlinewidth\": 0, \"ticks\": \"\"}, \"colorscale\": [[0.0, \"#0d0887\"], [0.1111111111111111, \"#46039f\"], [0.2222222222222222, \"#7201a8\"], [0.3333333333333333, \"#9c179e\"], [0.4444444444444444, \"#bd3786\"], [0.5555555555555556, \"#d8576b\"], [0.6666666666666666, \"#ed7953\"], [0.7777777777777778, \"#fb9f3a\"], [0.8888888888888888, \"#fdca26\"], [1.0, \"#f0f921\"]], \"type\": \"surface\"}], \"table\": [{\"cells\": {\"fill\": {\"color\": \"#EBF0F8\"}, \"line\": {\"color\": \"white\"}}, \"header\": {\"fill\": {\"color\": \"#C8D4E3\"}, \"line\": {\"color\": \"white\"}}, \"type\": \"table\"}]}, \"layout\": {\"annotationdefaults\": {\"arrowcolor\": \"#2a3f5f\", \"arrowhead\": 0, \"arrowwidth\": 1}, \"coloraxis\": {\"colorbar\": {\"outlinewidth\": 0, \"ticks\": \"\"}}, \"colorscale\": {\"diverging\": [[0, \"#8e0152\"], [0.1, \"#c51b7d\"], [0.2, \"#de77ae\"], [0.3, \"#f1b6da\"], [0.4, \"#fde0ef\"], [0.5, \"#f7f7f7\"], [0.6, \"#e6f5d0\"], [0.7, \"#b8e186\"], [0.8, \"#7fbc41\"], [0.9, \"#4d9221\"], [1, \"#276419\"]], \"sequential\": [[0.0, \"#0d0887\"], [0.1111111111111111, \"#46039f\"], [0.2222222222222222, \"#7201a8\"], [0.3333333333333333, \"#9c179e\"], [0.4444444444444444, \"#bd3786\"], [0.5555555555555556, \"#d8576b\"], [0.6666666666666666, \"#ed7953\"], [0.7777777777777778, \"#fb9f3a\"], [0.8888888888888888, \"#fdca26\"], [1.0, \"#f0f921\"]], \"sequentialminus\": [[0.0, \"#0d0887\"], [0.1111111111111111, \"#46039f\"], [0.2222222222222222, \"#7201a8\"], [0.3333333333333333, \"#9c179e\"], [0.4444444444444444, \"#bd3786\"], [0.5555555555555556, \"#d8576b\"], [0.6666666666666666, \"#ed7953\"], [0.7777777777777778, \"#fb9f3a\"], [0.8888888888888888, \"#fdca26\"], [1.0, \"#f0f921\"]]}, \"colorway\": [\"#636efa\", \"#EF553B\", \"#00cc96\", \"#ab63fa\", \"#FFA15A\", \"#19d3f3\", \"#FF6692\", \"#B6E880\", \"#FF97FF\", \"#FECB52\"], \"font\": {\"color\": \"#2a3f5f\"}, \"geo\": {\"bgcolor\": \"white\", \"lakecolor\": \"white\", \"landcolor\": \"#E5ECF6\", \"showlakes\": true, \"showland\": true, \"subunitcolor\": \"white\"}, \"hoverlabel\": {\"align\": \"left\"}, \"hovermode\": \"closest\", \"mapbox\": {\"style\": \"light\"}, \"paper_bgcolor\": \"white\", \"plot_bgcolor\": \"#E5ECF6\", \"polar\": {\"angularaxis\": {\"gridcolor\": \"white\", \"linecolor\": \"white\", \"ticks\": \"\"}, \"bgcolor\": \"#E5ECF6\", \"radialaxis\": {\"gridcolor\": \"white\", \"linecolor\": \"white\", \"ticks\": \"\"}}, \"scene\": {\"xaxis\": {\"backgroundcolor\": \"#E5ECF6\", \"gridcolor\": \"white\", \"gridwidth\": 2, \"linecolor\": \"white\", \"showbackground\": true, \"ticks\": \"\", \"zerolinecolor\": \"white\"}, \"yaxis\": {\"backgroundcolor\": \"#E5ECF6\", \"gridcolor\": \"white\", \"gridwidth\": 2, \"linecolor\": \"white\", \"showbackground\": true, \"ticks\": \"\", \"zerolinecolor\": \"white\"}, \"zaxis\": {\"backgroundcolor\": \"#E5ECF6\", \"gridcolor\": \"white\", \"gridwidth\": 2, \"linecolor\": \"white\", \"showbackground\": true, \"ticks\": \"\", \"zerolinecolor\": \"white\"}}, \"shapedefaults\": {\"line\": {\"color\": \"#2a3f5f\"}}, \"ternary\": {\"aaxis\": {\"gridcolor\": \"white\", \"linecolor\": \"white\", \"ticks\": \"\"}, \"baxis\": {\"gridcolor\": \"white\", \"linecolor\": \"white\", \"ticks\": \"\"}, \"bgcolor\": \"#E5ECF6\", \"caxis\": {\"gridcolor\": \"white\", \"linecolor\": \"white\", \"ticks\": \"\"}}, \"title\": {\"x\": 0.05}, \"xaxis\": {\"automargin\": true, \"gridcolor\": \"white\", \"linecolor\": \"white\", \"ticks\": \"\", \"title\": {\"standoff\": 15}, \"zerolinecolor\": \"white\", \"zerolinewidth\": 2}, \"yaxis\": {\"automargin\": true, \"gridcolor\": \"white\", \"linecolor\": \"white\", \"ticks\": \"\", \"title\": {\"standoff\": 15}, \"zerolinecolor\": \"white\", \"zerolinewidth\": 2}}}, \"title\": {\"font\": {\"color\": \"darkgoldenrod\", \"size\": 18}, \"text\": \"<b>\\u041c\\u0430\\u043b\\u044c\\u0447\\u0438\\u043a\\u0438 \\u0441 \\u0434\\u043e\\u043c\\u043e\\u043c, \\u0431\\u0435\\u0437 \\u0434\\u043e\\u043c\\u0430</b>\", \"x\": 0.5}},                        {\"responsive\": true}                    ).then(function(){\n",
       "                            \n",
       "var gd = document.getElementById('3d394fdd-6d30-4f0c-912e-7de6716afa7c');\n",
       "var x = new MutationObserver(function (mutations, observer) {{\n",
       "        var display = window.getComputedStyle(gd).display;\n",
       "        if (!display || display === 'none') {{\n",
       "            console.log([gd, 'removed!']);\n",
       "            Plotly.purge(gd);\n",
       "            observer.disconnect();\n",
       "        }}\n",
       "}});\n",
       "\n",
       "// Listen for the removal of the full notebook cells\n",
       "var notebookContainer = gd.closest('#notebook-container');\n",
       "if (notebookContainer) {{\n",
       "    x.observe(notebookContainer, {childList: true});\n",
       "}}\n",
       "\n",
       "// Listen for the clearing of the current output cell\n",
       "var outputEl = gd.closest('.output');\n",
       "if (outputEl) {{\n",
       "    x.observe(outputEl, {childList: true});\n",
       "}}\n",
       "\n",
       "                        })                };                });            </script>        </div>"
      ]
     },
     "metadata": {},
     "output_type": "display_data"
    }
   ],
   "source": [
    "fig = px.pie(sex_home, values=sex_home['мальчики'], names=sex_home.index, hole=0.4)\n",
    "fig.update_traces(textposition='inside', textinfo='percent+label', textfont_size=15,\n",
    "                  marker=dict(colors=colors, line=dict(color='#000000', width=1)))\n",
    "fig.update_layout(title_text=\"<b>Мальчики с домом, без дома</b>\", \n",
    "                  title_x=0.5, title_font_color='darkgoldenrod', \n",
    "                  title_font_size=18,\n",
    "                  legend=dict(orientation=\"h\", yanchor=\"top\", y=0, xanchor=\"center\", x=0.5),\n",
    "                  annotations=[dict(text='Всего', x=0.5, y=0.53, font_size=16, showarrow=False),\n",
    "                  dict(text='{}'.format(sex_home['мальчики'].sum().astype(int)),x=0.5, y=0.48, font_size=18, showarrow=False)],\n",
    "                  margin=dict(t=30, b=0, l=0, r=0))\n",
    "fig.show()"
   ]
  },
  {
   "cell_type": "code",
   "execution_count": 51,
   "metadata": {},
   "outputs": [],
   "source": [
    "fig.write_html(\"C://Users//ww//Documents//Github//hackathon//Research//cats_male_plotly.html\", \n",
    "               include_plotlyjs=\"cdn\")"
   ]
  },
  {
   "cell_type": "code",
   "execution_count": 52,
   "metadata": {},
   "outputs": [
    {
     "data": {
      "application/vnd.plotly.v1+json": {
       "config": {
        "plotlyServerURL": "https://plot.ly"
       },
       "data": [
        {
         "domain": {
          "x": [
           0,
           1
          ],
          "y": [
           0,
           1
          ]
         },
         "hole": 0.4,
         "hovertemplate": "index=%{label}<br>девочки=%{value}<extra></extra>",
         "labels": [
          "с домом",
          "без дома"
         ],
         "legendgroup": "",
         "marker": {
          "colors": [
           "yellowgreen",
           "lightcoral"
          ],
          "line": {
           "color": "#000000",
           "width": 1
          }
         },
         "name": "",
         "showlegend": true,
         "textfont": {
          "size": 15
         },
         "textinfo": "percent+label",
         "textposition": "inside",
         "type": "pie",
         "values": [
          607,
          205
         ]
        }
       ],
       "layout": {
        "annotations": [
         {
          "font": {
           "size": 16
          },
          "showarrow": false,
          "text": "Всего",
          "x": 0.5,
          "y": 0.53
         },
         {
          "font": {
           "size": 18
          },
          "showarrow": false,
          "text": "812",
          "x": 0.5,
          "y": 0.48
         }
        ],
        "legend": {
         "orientation": "h",
         "tracegroupgap": 0,
         "x": 0.5,
         "xanchor": "center",
         "y": 0,
         "yanchor": "top"
        },
        "margin": {
         "b": 0,
         "l": 0,
         "r": 0,
         "t": 30
        },
        "template": {
         "data": {
          "bar": [
           {
            "error_x": {
             "color": "#2a3f5f"
            },
            "error_y": {
             "color": "#2a3f5f"
            },
            "marker": {
             "line": {
              "color": "#E5ECF6",
              "width": 0.5
             }
            },
            "type": "bar"
           }
          ],
          "barpolar": [
           {
            "marker": {
             "line": {
              "color": "#E5ECF6",
              "width": 0.5
             }
            },
            "type": "barpolar"
           }
          ],
          "carpet": [
           {
            "aaxis": {
             "endlinecolor": "#2a3f5f",
             "gridcolor": "white",
             "linecolor": "white",
             "minorgridcolor": "white",
             "startlinecolor": "#2a3f5f"
            },
            "baxis": {
             "endlinecolor": "#2a3f5f",
             "gridcolor": "white",
             "linecolor": "white",
             "minorgridcolor": "white",
             "startlinecolor": "#2a3f5f"
            },
            "type": "carpet"
           }
          ],
          "choropleth": [
           {
            "colorbar": {
             "outlinewidth": 0,
             "ticks": ""
            },
            "type": "choropleth"
           }
          ],
          "contour": [
           {
            "colorbar": {
             "outlinewidth": 0,
             "ticks": ""
            },
            "colorscale": [
             [
              0,
              "#0d0887"
             ],
             [
              0.1111111111111111,
              "#46039f"
             ],
             [
              0.2222222222222222,
              "#7201a8"
             ],
             [
              0.3333333333333333,
              "#9c179e"
             ],
             [
              0.4444444444444444,
              "#bd3786"
             ],
             [
              0.5555555555555556,
              "#d8576b"
             ],
             [
              0.6666666666666666,
              "#ed7953"
             ],
             [
              0.7777777777777778,
              "#fb9f3a"
             ],
             [
              0.8888888888888888,
              "#fdca26"
             ],
             [
              1,
              "#f0f921"
             ]
            ],
            "type": "contour"
           }
          ],
          "contourcarpet": [
           {
            "colorbar": {
             "outlinewidth": 0,
             "ticks": ""
            },
            "type": "contourcarpet"
           }
          ],
          "heatmap": [
           {
            "colorbar": {
             "outlinewidth": 0,
             "ticks": ""
            },
            "colorscale": [
             [
              0,
              "#0d0887"
             ],
             [
              0.1111111111111111,
              "#46039f"
             ],
             [
              0.2222222222222222,
              "#7201a8"
             ],
             [
              0.3333333333333333,
              "#9c179e"
             ],
             [
              0.4444444444444444,
              "#bd3786"
             ],
             [
              0.5555555555555556,
              "#d8576b"
             ],
             [
              0.6666666666666666,
              "#ed7953"
             ],
             [
              0.7777777777777778,
              "#fb9f3a"
             ],
             [
              0.8888888888888888,
              "#fdca26"
             ],
             [
              1,
              "#f0f921"
             ]
            ],
            "type": "heatmap"
           }
          ],
          "heatmapgl": [
           {
            "colorbar": {
             "outlinewidth": 0,
             "ticks": ""
            },
            "colorscale": [
             [
              0,
              "#0d0887"
             ],
             [
              0.1111111111111111,
              "#46039f"
             ],
             [
              0.2222222222222222,
              "#7201a8"
             ],
             [
              0.3333333333333333,
              "#9c179e"
             ],
             [
              0.4444444444444444,
              "#bd3786"
             ],
             [
              0.5555555555555556,
              "#d8576b"
             ],
             [
              0.6666666666666666,
              "#ed7953"
             ],
             [
              0.7777777777777778,
              "#fb9f3a"
             ],
             [
              0.8888888888888888,
              "#fdca26"
             ],
             [
              1,
              "#f0f921"
             ]
            ],
            "type": "heatmapgl"
           }
          ],
          "histogram": [
           {
            "marker": {
             "colorbar": {
              "outlinewidth": 0,
              "ticks": ""
             }
            },
            "type": "histogram"
           }
          ],
          "histogram2d": [
           {
            "colorbar": {
             "outlinewidth": 0,
             "ticks": ""
            },
            "colorscale": [
             [
              0,
              "#0d0887"
             ],
             [
              0.1111111111111111,
              "#46039f"
             ],
             [
              0.2222222222222222,
              "#7201a8"
             ],
             [
              0.3333333333333333,
              "#9c179e"
             ],
             [
              0.4444444444444444,
              "#bd3786"
             ],
             [
              0.5555555555555556,
              "#d8576b"
             ],
             [
              0.6666666666666666,
              "#ed7953"
             ],
             [
              0.7777777777777778,
              "#fb9f3a"
             ],
             [
              0.8888888888888888,
              "#fdca26"
             ],
             [
              1,
              "#f0f921"
             ]
            ],
            "type": "histogram2d"
           }
          ],
          "histogram2dcontour": [
           {
            "colorbar": {
             "outlinewidth": 0,
             "ticks": ""
            },
            "colorscale": [
             [
              0,
              "#0d0887"
             ],
             [
              0.1111111111111111,
              "#46039f"
             ],
             [
              0.2222222222222222,
              "#7201a8"
             ],
             [
              0.3333333333333333,
              "#9c179e"
             ],
             [
              0.4444444444444444,
              "#bd3786"
             ],
             [
              0.5555555555555556,
              "#d8576b"
             ],
             [
              0.6666666666666666,
              "#ed7953"
             ],
             [
              0.7777777777777778,
              "#fb9f3a"
             ],
             [
              0.8888888888888888,
              "#fdca26"
             ],
             [
              1,
              "#f0f921"
             ]
            ],
            "type": "histogram2dcontour"
           }
          ],
          "mesh3d": [
           {
            "colorbar": {
             "outlinewidth": 0,
             "ticks": ""
            },
            "type": "mesh3d"
           }
          ],
          "parcoords": [
           {
            "line": {
             "colorbar": {
              "outlinewidth": 0,
              "ticks": ""
             }
            },
            "type": "parcoords"
           }
          ],
          "pie": [
           {
            "automargin": true,
            "type": "pie"
           }
          ],
          "scatter": [
           {
            "marker": {
             "colorbar": {
              "outlinewidth": 0,
              "ticks": ""
             }
            },
            "type": "scatter"
           }
          ],
          "scatter3d": [
           {
            "line": {
             "colorbar": {
              "outlinewidth": 0,
              "ticks": ""
             }
            },
            "marker": {
             "colorbar": {
              "outlinewidth": 0,
              "ticks": ""
             }
            },
            "type": "scatter3d"
           }
          ],
          "scattercarpet": [
           {
            "marker": {
             "colorbar": {
              "outlinewidth": 0,
              "ticks": ""
             }
            },
            "type": "scattercarpet"
           }
          ],
          "scattergeo": [
           {
            "marker": {
             "colorbar": {
              "outlinewidth": 0,
              "ticks": ""
             }
            },
            "type": "scattergeo"
           }
          ],
          "scattergl": [
           {
            "marker": {
             "colorbar": {
              "outlinewidth": 0,
              "ticks": ""
             }
            },
            "type": "scattergl"
           }
          ],
          "scattermapbox": [
           {
            "marker": {
             "colorbar": {
              "outlinewidth": 0,
              "ticks": ""
             }
            },
            "type": "scattermapbox"
           }
          ],
          "scatterpolar": [
           {
            "marker": {
             "colorbar": {
              "outlinewidth": 0,
              "ticks": ""
             }
            },
            "type": "scatterpolar"
           }
          ],
          "scatterpolargl": [
           {
            "marker": {
             "colorbar": {
              "outlinewidth": 0,
              "ticks": ""
             }
            },
            "type": "scatterpolargl"
           }
          ],
          "scatterternary": [
           {
            "marker": {
             "colorbar": {
              "outlinewidth": 0,
              "ticks": ""
             }
            },
            "type": "scatterternary"
           }
          ],
          "surface": [
           {
            "colorbar": {
             "outlinewidth": 0,
             "ticks": ""
            },
            "colorscale": [
             [
              0,
              "#0d0887"
             ],
             [
              0.1111111111111111,
              "#46039f"
             ],
             [
              0.2222222222222222,
              "#7201a8"
             ],
             [
              0.3333333333333333,
              "#9c179e"
             ],
             [
              0.4444444444444444,
              "#bd3786"
             ],
             [
              0.5555555555555556,
              "#d8576b"
             ],
             [
              0.6666666666666666,
              "#ed7953"
             ],
             [
              0.7777777777777778,
              "#fb9f3a"
             ],
             [
              0.8888888888888888,
              "#fdca26"
             ],
             [
              1,
              "#f0f921"
             ]
            ],
            "type": "surface"
           }
          ],
          "table": [
           {
            "cells": {
             "fill": {
              "color": "#EBF0F8"
             },
             "line": {
              "color": "white"
             }
            },
            "header": {
             "fill": {
              "color": "#C8D4E3"
             },
             "line": {
              "color": "white"
             }
            },
            "type": "table"
           }
          ]
         },
         "layout": {
          "annotationdefaults": {
           "arrowcolor": "#2a3f5f",
           "arrowhead": 0,
           "arrowwidth": 1
          },
          "coloraxis": {
           "colorbar": {
            "outlinewidth": 0,
            "ticks": ""
           }
          },
          "colorscale": {
           "diverging": [
            [
             0,
             "#8e0152"
            ],
            [
             0.1,
             "#c51b7d"
            ],
            [
             0.2,
             "#de77ae"
            ],
            [
             0.3,
             "#f1b6da"
            ],
            [
             0.4,
             "#fde0ef"
            ],
            [
             0.5,
             "#f7f7f7"
            ],
            [
             0.6,
             "#e6f5d0"
            ],
            [
             0.7,
             "#b8e186"
            ],
            [
             0.8,
             "#7fbc41"
            ],
            [
             0.9,
             "#4d9221"
            ],
            [
             1,
             "#276419"
            ]
           ],
           "sequential": [
            [
             0,
             "#0d0887"
            ],
            [
             0.1111111111111111,
             "#46039f"
            ],
            [
             0.2222222222222222,
             "#7201a8"
            ],
            [
             0.3333333333333333,
             "#9c179e"
            ],
            [
             0.4444444444444444,
             "#bd3786"
            ],
            [
             0.5555555555555556,
             "#d8576b"
            ],
            [
             0.6666666666666666,
             "#ed7953"
            ],
            [
             0.7777777777777778,
             "#fb9f3a"
            ],
            [
             0.8888888888888888,
             "#fdca26"
            ],
            [
             1,
             "#f0f921"
            ]
           ],
           "sequentialminus": [
            [
             0,
             "#0d0887"
            ],
            [
             0.1111111111111111,
             "#46039f"
            ],
            [
             0.2222222222222222,
             "#7201a8"
            ],
            [
             0.3333333333333333,
             "#9c179e"
            ],
            [
             0.4444444444444444,
             "#bd3786"
            ],
            [
             0.5555555555555556,
             "#d8576b"
            ],
            [
             0.6666666666666666,
             "#ed7953"
            ],
            [
             0.7777777777777778,
             "#fb9f3a"
            ],
            [
             0.8888888888888888,
             "#fdca26"
            ],
            [
             1,
             "#f0f921"
            ]
           ]
          },
          "colorway": [
           "#636efa",
           "#EF553B",
           "#00cc96",
           "#ab63fa",
           "#FFA15A",
           "#19d3f3",
           "#FF6692",
           "#B6E880",
           "#FF97FF",
           "#FECB52"
          ],
          "font": {
           "color": "#2a3f5f"
          },
          "geo": {
           "bgcolor": "white",
           "lakecolor": "white",
           "landcolor": "#E5ECF6",
           "showlakes": true,
           "showland": true,
           "subunitcolor": "white"
          },
          "hoverlabel": {
           "align": "left"
          },
          "hovermode": "closest",
          "mapbox": {
           "style": "light"
          },
          "paper_bgcolor": "white",
          "plot_bgcolor": "#E5ECF6",
          "polar": {
           "angularaxis": {
            "gridcolor": "white",
            "linecolor": "white",
            "ticks": ""
           },
           "bgcolor": "#E5ECF6",
           "radialaxis": {
            "gridcolor": "white",
            "linecolor": "white",
            "ticks": ""
           }
          },
          "scene": {
           "xaxis": {
            "backgroundcolor": "#E5ECF6",
            "gridcolor": "white",
            "gridwidth": 2,
            "linecolor": "white",
            "showbackground": true,
            "ticks": "",
            "zerolinecolor": "white"
           },
           "yaxis": {
            "backgroundcolor": "#E5ECF6",
            "gridcolor": "white",
            "gridwidth": 2,
            "linecolor": "white",
            "showbackground": true,
            "ticks": "",
            "zerolinecolor": "white"
           },
           "zaxis": {
            "backgroundcolor": "#E5ECF6",
            "gridcolor": "white",
            "gridwidth": 2,
            "linecolor": "white",
            "showbackground": true,
            "ticks": "",
            "zerolinecolor": "white"
           }
          },
          "shapedefaults": {
           "line": {
            "color": "#2a3f5f"
           }
          },
          "ternary": {
           "aaxis": {
            "gridcolor": "white",
            "linecolor": "white",
            "ticks": ""
           },
           "baxis": {
            "gridcolor": "white",
            "linecolor": "white",
            "ticks": ""
           },
           "bgcolor": "#E5ECF6",
           "caxis": {
            "gridcolor": "white",
            "linecolor": "white",
            "ticks": ""
           }
          },
          "title": {
           "x": 0.05
          },
          "xaxis": {
           "automargin": true,
           "gridcolor": "white",
           "linecolor": "white",
           "ticks": "",
           "title": {
            "standoff": 15
           },
           "zerolinecolor": "white",
           "zerolinewidth": 2
          },
          "yaxis": {
           "automargin": true,
           "gridcolor": "white",
           "linecolor": "white",
           "ticks": "",
           "title": {
            "standoff": 15
           },
           "zerolinecolor": "white",
           "zerolinewidth": 2
          }
         }
        },
        "title": {
         "font": {
          "color": "darkgoldenrod",
          "size": 18
         },
         "text": "<b>Девочки с домом, без дома</b>",
         "x": 0.5
        }
       }
      },
      "text/html": [
       "<div>                            <div id=\"ae0ea940-f65f-4d45-bec4-2f99d45c580e\" class=\"plotly-graph-div\" style=\"height:525px; width:100%;\"></div>            <script type=\"text/javascript\">                require([\"plotly\"], function(Plotly) {                    window.PLOTLYENV=window.PLOTLYENV || {};                                    if (document.getElementById(\"ae0ea940-f65f-4d45-bec4-2f99d45c580e\")) {                    Plotly.newPlot(                        \"ae0ea940-f65f-4d45-bec4-2f99d45c580e\",                        [{\"domain\": {\"x\": [0.0, 1.0], \"y\": [0.0, 1.0]}, \"hole\": 0.4, \"hovertemplate\": \"index=%{label}<br>\\u0434\\u0435\\u0432\\u043e\\u0447\\u043a\\u0438=%{value}<extra></extra>\", \"labels\": [\"\\u0441 \\u0434\\u043e\\u043c\\u043e\\u043c\", \"\\u0431\\u0435\\u0437 \\u0434\\u043e\\u043c\\u0430\"], \"legendgroup\": \"\", \"marker\": {\"colors\": [\"yellowgreen\", \"lightcoral\"], \"line\": {\"color\": \"#000000\", \"width\": 1}}, \"name\": \"\", \"showlegend\": true, \"textfont\": {\"size\": 15}, \"textinfo\": \"percent+label\", \"textposition\": \"inside\", \"type\": \"pie\", \"values\": [607.0, 205.0]}],                        {\"annotations\": [{\"font\": {\"size\": 16}, \"showarrow\": false, \"text\": \"\\u0412\\u0441\\u0435\\u0433\\u043e\", \"x\": 0.5, \"y\": 0.53}, {\"font\": {\"size\": 18}, \"showarrow\": false, \"text\": \"812\", \"x\": 0.5, \"y\": 0.48}], \"legend\": {\"orientation\": \"h\", \"tracegroupgap\": 0, \"x\": 0.5, \"xanchor\": \"center\", \"y\": 0, \"yanchor\": \"top\"}, \"margin\": {\"b\": 0, \"l\": 0, \"r\": 0, \"t\": 30}, \"template\": {\"data\": {\"bar\": [{\"error_x\": {\"color\": \"#2a3f5f\"}, \"error_y\": {\"color\": \"#2a3f5f\"}, \"marker\": {\"line\": {\"color\": \"#E5ECF6\", \"width\": 0.5}}, \"type\": \"bar\"}], \"barpolar\": [{\"marker\": {\"line\": {\"color\": \"#E5ECF6\", \"width\": 0.5}}, \"type\": \"barpolar\"}], \"carpet\": [{\"aaxis\": {\"endlinecolor\": \"#2a3f5f\", \"gridcolor\": \"white\", \"linecolor\": \"white\", \"minorgridcolor\": \"white\", \"startlinecolor\": \"#2a3f5f\"}, \"baxis\": {\"endlinecolor\": \"#2a3f5f\", \"gridcolor\": \"white\", \"linecolor\": \"white\", \"minorgridcolor\": \"white\", \"startlinecolor\": \"#2a3f5f\"}, \"type\": \"carpet\"}], \"choropleth\": [{\"colorbar\": {\"outlinewidth\": 0, \"ticks\": \"\"}, \"type\": \"choropleth\"}], \"contour\": [{\"colorbar\": {\"outlinewidth\": 0, \"ticks\": \"\"}, \"colorscale\": [[0.0, \"#0d0887\"], [0.1111111111111111, \"#46039f\"], [0.2222222222222222, \"#7201a8\"], [0.3333333333333333, \"#9c179e\"], [0.4444444444444444, \"#bd3786\"], [0.5555555555555556, \"#d8576b\"], [0.6666666666666666, \"#ed7953\"], [0.7777777777777778, \"#fb9f3a\"], [0.8888888888888888, \"#fdca26\"], [1.0, \"#f0f921\"]], \"type\": \"contour\"}], \"contourcarpet\": [{\"colorbar\": {\"outlinewidth\": 0, \"ticks\": \"\"}, \"type\": \"contourcarpet\"}], \"heatmap\": [{\"colorbar\": {\"outlinewidth\": 0, \"ticks\": \"\"}, \"colorscale\": [[0.0, \"#0d0887\"], [0.1111111111111111, \"#46039f\"], [0.2222222222222222, \"#7201a8\"], [0.3333333333333333, \"#9c179e\"], [0.4444444444444444, \"#bd3786\"], [0.5555555555555556, \"#d8576b\"], [0.6666666666666666, \"#ed7953\"], [0.7777777777777778, \"#fb9f3a\"], [0.8888888888888888, \"#fdca26\"], [1.0, \"#f0f921\"]], \"type\": \"heatmap\"}], \"heatmapgl\": [{\"colorbar\": {\"outlinewidth\": 0, \"ticks\": \"\"}, \"colorscale\": [[0.0, \"#0d0887\"], [0.1111111111111111, \"#46039f\"], [0.2222222222222222, \"#7201a8\"], [0.3333333333333333, \"#9c179e\"], [0.4444444444444444, \"#bd3786\"], [0.5555555555555556, \"#d8576b\"], [0.6666666666666666, \"#ed7953\"], [0.7777777777777778, \"#fb9f3a\"], [0.8888888888888888, \"#fdca26\"], [1.0, \"#f0f921\"]], \"type\": \"heatmapgl\"}], \"histogram\": [{\"marker\": {\"colorbar\": {\"outlinewidth\": 0, \"ticks\": \"\"}}, \"type\": \"histogram\"}], \"histogram2d\": [{\"colorbar\": {\"outlinewidth\": 0, \"ticks\": \"\"}, \"colorscale\": [[0.0, \"#0d0887\"], [0.1111111111111111, \"#46039f\"], [0.2222222222222222, \"#7201a8\"], [0.3333333333333333, \"#9c179e\"], [0.4444444444444444, \"#bd3786\"], [0.5555555555555556, \"#d8576b\"], [0.6666666666666666, \"#ed7953\"], [0.7777777777777778, \"#fb9f3a\"], [0.8888888888888888, \"#fdca26\"], [1.0, \"#f0f921\"]], \"type\": \"histogram2d\"}], \"histogram2dcontour\": [{\"colorbar\": {\"outlinewidth\": 0, \"ticks\": \"\"}, \"colorscale\": [[0.0, \"#0d0887\"], [0.1111111111111111, \"#46039f\"], [0.2222222222222222, \"#7201a8\"], [0.3333333333333333, \"#9c179e\"], [0.4444444444444444, \"#bd3786\"], [0.5555555555555556, \"#d8576b\"], [0.6666666666666666, \"#ed7953\"], [0.7777777777777778, \"#fb9f3a\"], [0.8888888888888888, \"#fdca26\"], [1.0, \"#f0f921\"]], \"type\": \"histogram2dcontour\"}], \"mesh3d\": [{\"colorbar\": {\"outlinewidth\": 0, \"ticks\": \"\"}, \"type\": \"mesh3d\"}], \"parcoords\": [{\"line\": {\"colorbar\": {\"outlinewidth\": 0, \"ticks\": \"\"}}, \"type\": \"parcoords\"}], \"pie\": [{\"automargin\": true, \"type\": \"pie\"}], \"scatter\": [{\"marker\": {\"colorbar\": {\"outlinewidth\": 0, \"ticks\": \"\"}}, \"type\": \"scatter\"}], \"scatter3d\": [{\"line\": {\"colorbar\": {\"outlinewidth\": 0, \"ticks\": \"\"}}, \"marker\": {\"colorbar\": {\"outlinewidth\": 0, \"ticks\": \"\"}}, \"type\": \"scatter3d\"}], \"scattercarpet\": [{\"marker\": {\"colorbar\": {\"outlinewidth\": 0, \"ticks\": \"\"}}, \"type\": \"scattercarpet\"}], \"scattergeo\": [{\"marker\": {\"colorbar\": {\"outlinewidth\": 0, \"ticks\": \"\"}}, \"type\": \"scattergeo\"}], \"scattergl\": [{\"marker\": {\"colorbar\": {\"outlinewidth\": 0, \"ticks\": \"\"}}, \"type\": \"scattergl\"}], \"scattermapbox\": [{\"marker\": {\"colorbar\": {\"outlinewidth\": 0, \"ticks\": \"\"}}, \"type\": \"scattermapbox\"}], \"scatterpolar\": [{\"marker\": {\"colorbar\": {\"outlinewidth\": 0, \"ticks\": \"\"}}, \"type\": \"scatterpolar\"}], \"scatterpolargl\": [{\"marker\": {\"colorbar\": {\"outlinewidth\": 0, \"ticks\": \"\"}}, \"type\": \"scatterpolargl\"}], \"scatterternary\": [{\"marker\": {\"colorbar\": {\"outlinewidth\": 0, \"ticks\": \"\"}}, \"type\": \"scatterternary\"}], \"surface\": [{\"colorbar\": {\"outlinewidth\": 0, \"ticks\": \"\"}, \"colorscale\": [[0.0, \"#0d0887\"], [0.1111111111111111, \"#46039f\"], [0.2222222222222222, \"#7201a8\"], [0.3333333333333333, \"#9c179e\"], [0.4444444444444444, \"#bd3786\"], [0.5555555555555556, \"#d8576b\"], [0.6666666666666666, \"#ed7953\"], [0.7777777777777778, \"#fb9f3a\"], [0.8888888888888888, \"#fdca26\"], [1.0, \"#f0f921\"]], \"type\": \"surface\"}], \"table\": [{\"cells\": {\"fill\": {\"color\": \"#EBF0F8\"}, \"line\": {\"color\": \"white\"}}, \"header\": {\"fill\": {\"color\": \"#C8D4E3\"}, \"line\": {\"color\": \"white\"}}, \"type\": \"table\"}]}, \"layout\": {\"annotationdefaults\": {\"arrowcolor\": \"#2a3f5f\", \"arrowhead\": 0, \"arrowwidth\": 1}, \"coloraxis\": {\"colorbar\": {\"outlinewidth\": 0, \"ticks\": \"\"}}, \"colorscale\": {\"diverging\": [[0, \"#8e0152\"], [0.1, \"#c51b7d\"], [0.2, \"#de77ae\"], [0.3, \"#f1b6da\"], [0.4, \"#fde0ef\"], [0.5, \"#f7f7f7\"], [0.6, \"#e6f5d0\"], [0.7, \"#b8e186\"], [0.8, \"#7fbc41\"], [0.9, \"#4d9221\"], [1, \"#276419\"]], \"sequential\": [[0.0, \"#0d0887\"], [0.1111111111111111, \"#46039f\"], [0.2222222222222222, \"#7201a8\"], [0.3333333333333333, \"#9c179e\"], [0.4444444444444444, \"#bd3786\"], [0.5555555555555556, \"#d8576b\"], [0.6666666666666666, \"#ed7953\"], [0.7777777777777778, \"#fb9f3a\"], [0.8888888888888888, \"#fdca26\"], [1.0, \"#f0f921\"]], \"sequentialminus\": [[0.0, \"#0d0887\"], [0.1111111111111111, \"#46039f\"], [0.2222222222222222, \"#7201a8\"], [0.3333333333333333, \"#9c179e\"], [0.4444444444444444, \"#bd3786\"], [0.5555555555555556, \"#d8576b\"], [0.6666666666666666, \"#ed7953\"], [0.7777777777777778, \"#fb9f3a\"], [0.8888888888888888, \"#fdca26\"], [1.0, \"#f0f921\"]]}, \"colorway\": [\"#636efa\", \"#EF553B\", \"#00cc96\", \"#ab63fa\", \"#FFA15A\", \"#19d3f3\", \"#FF6692\", \"#B6E880\", \"#FF97FF\", \"#FECB52\"], \"font\": {\"color\": \"#2a3f5f\"}, \"geo\": {\"bgcolor\": \"white\", \"lakecolor\": \"white\", \"landcolor\": \"#E5ECF6\", \"showlakes\": true, \"showland\": true, \"subunitcolor\": \"white\"}, \"hoverlabel\": {\"align\": \"left\"}, \"hovermode\": \"closest\", \"mapbox\": {\"style\": \"light\"}, \"paper_bgcolor\": \"white\", \"plot_bgcolor\": \"#E5ECF6\", \"polar\": {\"angularaxis\": {\"gridcolor\": \"white\", \"linecolor\": \"white\", \"ticks\": \"\"}, \"bgcolor\": \"#E5ECF6\", \"radialaxis\": {\"gridcolor\": \"white\", \"linecolor\": \"white\", \"ticks\": \"\"}}, \"scene\": {\"xaxis\": {\"backgroundcolor\": \"#E5ECF6\", \"gridcolor\": \"white\", \"gridwidth\": 2, \"linecolor\": \"white\", \"showbackground\": true, \"ticks\": \"\", \"zerolinecolor\": \"white\"}, \"yaxis\": {\"backgroundcolor\": \"#E5ECF6\", \"gridcolor\": \"white\", \"gridwidth\": 2, \"linecolor\": \"white\", \"showbackground\": true, \"ticks\": \"\", \"zerolinecolor\": \"white\"}, \"zaxis\": {\"backgroundcolor\": \"#E5ECF6\", \"gridcolor\": \"white\", \"gridwidth\": 2, \"linecolor\": \"white\", \"showbackground\": true, \"ticks\": \"\", \"zerolinecolor\": \"white\"}}, \"shapedefaults\": {\"line\": {\"color\": \"#2a3f5f\"}}, \"ternary\": {\"aaxis\": {\"gridcolor\": \"white\", \"linecolor\": \"white\", \"ticks\": \"\"}, \"baxis\": {\"gridcolor\": \"white\", \"linecolor\": \"white\", \"ticks\": \"\"}, \"bgcolor\": \"#E5ECF6\", \"caxis\": {\"gridcolor\": \"white\", \"linecolor\": \"white\", \"ticks\": \"\"}}, \"title\": {\"x\": 0.05}, \"xaxis\": {\"automargin\": true, \"gridcolor\": \"white\", \"linecolor\": \"white\", \"ticks\": \"\", \"title\": {\"standoff\": 15}, \"zerolinecolor\": \"white\", \"zerolinewidth\": 2}, \"yaxis\": {\"automargin\": true, \"gridcolor\": \"white\", \"linecolor\": \"white\", \"ticks\": \"\", \"title\": {\"standoff\": 15}, \"zerolinecolor\": \"white\", \"zerolinewidth\": 2}}}, \"title\": {\"font\": {\"color\": \"darkgoldenrod\", \"size\": 18}, \"text\": \"<b>\\u0414\\u0435\\u0432\\u043e\\u0447\\u043a\\u0438 \\u0441 \\u0434\\u043e\\u043c\\u043e\\u043c, \\u0431\\u0435\\u0437 \\u0434\\u043e\\u043c\\u0430</b>\", \"x\": 0.5}},                        {\"responsive\": true}                    ).then(function(){\n",
       "                            \n",
       "var gd = document.getElementById('ae0ea940-f65f-4d45-bec4-2f99d45c580e');\n",
       "var x = new MutationObserver(function (mutations, observer) {{\n",
       "        var display = window.getComputedStyle(gd).display;\n",
       "        if (!display || display === 'none') {{\n",
       "            console.log([gd, 'removed!']);\n",
       "            Plotly.purge(gd);\n",
       "            observer.disconnect();\n",
       "        }}\n",
       "}});\n",
       "\n",
       "// Listen for the removal of the full notebook cells\n",
       "var notebookContainer = gd.closest('#notebook-container');\n",
       "if (notebookContainer) {{\n",
       "    x.observe(notebookContainer, {childList: true});\n",
       "}}\n",
       "\n",
       "// Listen for the clearing of the current output cell\n",
       "var outputEl = gd.closest('.output');\n",
       "if (outputEl) {{\n",
       "    x.observe(outputEl, {childList: true});\n",
       "}}\n",
       "\n",
       "                        })                };                });            </script>        </div>"
      ]
     },
     "metadata": {},
     "output_type": "display_data"
    }
   ],
   "source": [
    "fig = px.pie(sex_home, values=sex_home['девочки'], names=sex_home.index, hole=0.4)\n",
    "fig.update_traces(textposition='inside', textinfo='percent+label', textfont_size=15,\n",
    "                  marker=dict(colors=colors, line=dict(color='#000000', width=1)))\n",
    "fig.update_layout(title_text=\"<b>Девочки с домом, без дома</b>\", \n",
    "                  title_x=0.5, title_font_color='darkgoldenrod', \n",
    "                  title_font_size=18,\n",
    "                  legend=dict(orientation=\"h\", yanchor=\"top\", y=0, xanchor=\"center\", x=0.5),\n",
    "                  annotations=[dict(text='Всего', x=0.5, y=0.53, font_size=16, showarrow=False),\n",
    "                  dict(text='{}'.format(sex_home['девочки'].sum().astype(int)), x=0.5, y=0.48, font_size=18, showarrow=False)],\n",
    "                  margin=dict(t=30, b=0, l=0, r=0))\n",
    "fig.show()"
   ]
  },
  {
   "cell_type": "code",
   "execution_count": 53,
   "metadata": {},
   "outputs": [],
   "source": [
    "fig.write_html(\"C://Users//ww//Documents//Github//hackathon//Research//cats_female_plotly.html\", \n",
    "               include_plotlyjs=\"cdn\")"
   ]
  },
  {
   "cell_type": "code",
   "execution_count": null,
   "metadata": {},
   "outputs": [],
   "source": []
  },
  {
   "cell_type": "code",
   "execution_count": null,
   "metadata": {},
   "outputs": [],
   "source": []
  },
  {
   "cell_type": "code",
   "execution_count": 43,
   "metadata": {},
   "outputs": [],
   "source": [
    "df = pets.groupby('city')['shelter'].count()"
   ]
  },
  {
   "cell_type": "code",
   "execution_count": 44,
   "metadata": {},
   "outputs": [],
   "source": [
    "df = pets.groupby('shelter')['city'].count()"
   ]
  },
  {
   "cell_type": "code",
   "execution_count": 45,
   "metadata": {},
   "outputs": [],
   "source": [
    "df = pets.groupby('city')['shelter']"
   ]
  },
  {
   "cell_type": "code",
   "execution_count": 46,
   "metadata": {},
   "outputs": [
    {
     "data": {
      "text/plain": [
       "<pandas.core.groupby.generic.SeriesGroupBy object at 0x000002AF139584C8>"
      ]
     },
     "execution_count": 46,
     "metadata": {},
     "output_type": "execute_result"
    }
   ],
   "source": [
    "df"
   ]
  },
  {
   "cell_type": "code",
   "execution_count": 47,
   "metadata": {},
   "outputs": [
    {
     "data": {
      "text/html": [
       "<div>\n",
       "<style scoped>\n",
       "    .dataframe tbody tr th:only-of-type {\n",
       "        vertical-align: middle;\n",
       "    }\n",
       "\n",
       "    .dataframe tbody tr th {\n",
       "        vertical-align: top;\n",
       "    }\n",
       "\n",
       "    .dataframe thead th {\n",
       "        text-align: right;\n",
       "    }\n",
       "</style>\n",
       "<table border=\"1\" class=\"dataframe\">\n",
       "  <thead>\n",
       "    <tr style=\"text-align: right;\">\n",
       "      <th></th>\n",
       "      <th>id</th>\n",
       "      <th>nickname</th>\n",
       "      <th>profile_link</th>\n",
       "      <th>shelter</th>\n",
       "      <th>city</th>\n",
       "      <th>breed</th>\n",
       "      <th>type</th>\n",
       "      <th>birthday</th>\n",
       "      <th>sex</th>\n",
       "      <th>favorite</th>\n",
       "      <th>home</th>\n",
       "      <th>homeless</th>\n",
       "      <th>walk</th>\n",
       "    </tr>\n",
       "  </thead>\n",
       "  <tbody>\n",
       "    <tr>\n",
       "      <td>325</td>\n",
       "      <td>328</td>\n",
       "      <td>Соня</td>\n",
       "      <td>https://teddyfood.com/ru/animals/Sonia_p/</td>\n",
       "      <td>Котофей</td>\n",
       "      <td>Пермь</td>\n",
       "      <td>Без породы</td>\n",
       "      <td>Кошки</td>\n",
       "      <td>2015-06-20</td>\n",
       "      <td>девочка</td>\n",
       "      <td>6</td>\n",
       "      <td>1</td>\n",
       "      <td>0</td>\n",
       "      <td>0</td>\n",
       "    </tr>\n",
       "    <tr>\n",
       "      <td>326</td>\n",
       "      <td>329</td>\n",
       "      <td>Амур</td>\n",
       "      <td>https://teddyfood.com/ru/animals/Amur/</td>\n",
       "      <td>Котофей</td>\n",
       "      <td>Пермь</td>\n",
       "      <td>Без породы</td>\n",
       "      <td>Кошки</td>\n",
       "      <td>2016-02-20</td>\n",
       "      <td>мальчик</td>\n",
       "      <td>2</td>\n",
       "      <td>1</td>\n",
       "      <td>0</td>\n",
       "      <td>0</td>\n",
       "    </tr>\n",
       "    <tr>\n",
       "      <td>341</td>\n",
       "      <td>345</td>\n",
       "      <td>Аватар</td>\n",
       "      <td>https://teddyfood.com/ru/animals/Avatar/</td>\n",
       "      <td>Котофей</td>\n",
       "      <td>Пермь</td>\n",
       "      <td>Без породы</td>\n",
       "      <td>Кошки</td>\n",
       "      <td>2015-07-20</td>\n",
       "      <td>мальчик</td>\n",
       "      <td>0</td>\n",
       "      <td>1</td>\n",
       "      <td>0</td>\n",
       "      <td>0</td>\n",
       "    </tr>\n",
       "    <tr>\n",
       "      <td>343</td>\n",
       "      <td>347</td>\n",
       "      <td>Кузина</td>\n",
       "      <td>https://teddyfood.com/ru/animals/Cousina/</td>\n",
       "      <td>Котофей</td>\n",
       "      <td>Пермь</td>\n",
       "      <td>Без породы</td>\n",
       "      <td>Кошки</td>\n",
       "      <td>2011-04-20</td>\n",
       "      <td>девочка</td>\n",
       "      <td>3</td>\n",
       "      <td>1</td>\n",
       "      <td>0</td>\n",
       "      <td>0</td>\n",
       "    </tr>\n",
       "    <tr>\n",
       "      <td>349</td>\n",
       "      <td>353</td>\n",
       "      <td>Пьер</td>\n",
       "      <td>https://teddyfood.com/ru/animals/Pierre/</td>\n",
       "      <td>Котофей</td>\n",
       "      <td>Пермь</td>\n",
       "      <td>Без породы</td>\n",
       "      <td>Кошки</td>\n",
       "      <td>2013-08-20</td>\n",
       "      <td>мальчик</td>\n",
       "      <td>2</td>\n",
       "      <td>1</td>\n",
       "      <td>0</td>\n",
       "      <td>0</td>\n",
       "    </tr>\n",
       "    <tr>\n",
       "      <td>359</td>\n",
       "      <td>363</td>\n",
       "      <td>Мандаринка</td>\n",
       "      <td>https://teddyfood.com/ru/animals/Mandarinka/</td>\n",
       "      <td>Котофей</td>\n",
       "      <td>Пермь</td>\n",
       "      <td>Без породы</td>\n",
       "      <td>Кошки</td>\n",
       "      <td>2015-10-10</td>\n",
       "      <td>девочка</td>\n",
       "      <td>10</td>\n",
       "      <td>1</td>\n",
       "      <td>0</td>\n",
       "      <td>0</td>\n",
       "    </tr>\n",
       "    <tr>\n",
       "      <td>360</td>\n",
       "      <td>364</td>\n",
       "      <td>Сникерс</td>\n",
       "      <td>https://teddyfood.com/ru/animals/Snickers/</td>\n",
       "      <td>Котофей</td>\n",
       "      <td>Пермь</td>\n",
       "      <td>Без породы</td>\n",
       "      <td>Кошки</td>\n",
       "      <td>2016-08-20</td>\n",
       "      <td>мальчик</td>\n",
       "      <td>6</td>\n",
       "      <td>1</td>\n",
       "      <td>0</td>\n",
       "      <td>1</td>\n",
       "    </tr>\n",
       "    <tr>\n",
       "      <td>361</td>\n",
       "      <td>365</td>\n",
       "      <td>Канапешка</td>\n",
       "      <td>https://teddyfood.com/ru/animals/Kanapeshka/</td>\n",
       "      <td>Котофей</td>\n",
       "      <td>Пермь</td>\n",
       "      <td>Без породы</td>\n",
       "      <td>Кошки</td>\n",
       "      <td>2015-06-20</td>\n",
       "      <td>девочка</td>\n",
       "      <td>3</td>\n",
       "      <td>1</td>\n",
       "      <td>0</td>\n",
       "      <td>0</td>\n",
       "    </tr>\n",
       "    <tr>\n",
       "      <td>383</td>\n",
       "      <td>387</td>\n",
       "      <td>Феликс</td>\n",
       "      <td>https://teddyfood.com/ru/animals/Felix_p/</td>\n",
       "      <td>Котофей</td>\n",
       "      <td>Пермь</td>\n",
       "      <td>Без породы</td>\n",
       "      <td>Кошки</td>\n",
       "      <td>2016-05-20</td>\n",
       "      <td>мальчик</td>\n",
       "      <td>4</td>\n",
       "      <td>1</td>\n",
       "      <td>0</td>\n",
       "      <td>0</td>\n",
       "    </tr>\n",
       "    <tr>\n",
       "      <td>388</td>\n",
       "      <td>392</td>\n",
       "      <td>Вася</td>\n",
       "      <td>https://teddyfood.com/ru/animals/Vasya_cat/</td>\n",
       "      <td>Котофей</td>\n",
       "      <td>Пермь</td>\n",
       "      <td>Без породы</td>\n",
       "      <td>Кошки</td>\n",
       "      <td>2015-05-20</td>\n",
       "      <td>мальчик</td>\n",
       "      <td>1</td>\n",
       "      <td>1</td>\n",
       "      <td>0</td>\n",
       "      <td>0</td>\n",
       "    </tr>\n",
       "    <tr>\n",
       "      <td>418</td>\n",
       "      <td>422</td>\n",
       "      <td>Герда</td>\n",
       "      <td>https://teddyfood.com/ru/animals/Gerda_k/</td>\n",
       "      <td>Котофей</td>\n",
       "      <td>Пермь</td>\n",
       "      <td>Без породы</td>\n",
       "      <td>Кошки</td>\n",
       "      <td>2015-10-12</td>\n",
       "      <td>девочка</td>\n",
       "      <td>6</td>\n",
       "      <td>1</td>\n",
       "      <td>0</td>\n",
       "      <td>0</td>\n",
       "    </tr>\n",
       "    <tr>\n",
       "      <td>439</td>\n",
       "      <td>443</td>\n",
       "      <td>Лиза</td>\n",
       "      <td>https://teddyfood.com/ru/animals/Liza_p_k/</td>\n",
       "      <td>Котофей</td>\n",
       "      <td>Пермь</td>\n",
       "      <td>Без породы</td>\n",
       "      <td>Кошки</td>\n",
       "      <td>2015-10-22</td>\n",
       "      <td>девочка</td>\n",
       "      <td>4</td>\n",
       "      <td>1</td>\n",
       "      <td>1</td>\n",
       "      <td>0</td>\n",
       "    </tr>\n",
       "    <tr>\n",
       "      <td>451</td>\n",
       "      <td>455</td>\n",
       "      <td>Констанция</td>\n",
       "      <td>https://teddyfood.com/ru/animals/Konstancia/</td>\n",
       "      <td>Котофей</td>\n",
       "      <td>Пермь</td>\n",
       "      <td>Без породы</td>\n",
       "      <td>Кошки</td>\n",
       "      <td>2011-10-12</td>\n",
       "      <td>девочка</td>\n",
       "      <td>2</td>\n",
       "      <td>0</td>\n",
       "      <td>0</td>\n",
       "      <td>0</td>\n",
       "    </tr>\n",
       "    <tr>\n",
       "      <td>459</td>\n",
       "      <td>463</td>\n",
       "      <td>Графиня</td>\n",
       "      <td>https://teddyfood.com/ru/animals/Countess/</td>\n",
       "      <td>Котофей</td>\n",
       "      <td>Пермь</td>\n",
       "      <td>Без породы</td>\n",
       "      <td>Кошки</td>\n",
       "      <td>2017-01-30</td>\n",
       "      <td>девочка</td>\n",
       "      <td>4</td>\n",
       "      <td>1</td>\n",
       "      <td>0</td>\n",
       "      <td>0</td>\n",
       "    </tr>\n",
       "    <tr>\n",
       "      <td>536</td>\n",
       "      <td>540</td>\n",
       "      <td>Рыжик</td>\n",
       "      <td>https://teddyfood.com/ru/animals/Ryzhik/</td>\n",
       "      <td>Котофей</td>\n",
       "      <td>Пермь</td>\n",
       "      <td>Без породы</td>\n",
       "      <td>Кошки</td>\n",
       "      <td>2016-02-20</td>\n",
       "      <td>мальчик</td>\n",
       "      <td>4</td>\n",
       "      <td>1</td>\n",
       "      <td>0</td>\n",
       "      <td>0</td>\n",
       "    </tr>\n",
       "    <tr>\n",
       "      <td>544</td>\n",
       "      <td>548</td>\n",
       "      <td>Джем</td>\n",
       "      <td>https://teddyfood.com/ru/animals/Jam_k/</td>\n",
       "      <td>Котофей</td>\n",
       "      <td>Пермь</td>\n",
       "      <td>Без породы</td>\n",
       "      <td>Кошки</td>\n",
       "      <td>2015-02-20</td>\n",
       "      <td>мальчик</td>\n",
       "      <td>15</td>\n",
       "      <td>1</td>\n",
       "      <td>0</td>\n",
       "      <td>1</td>\n",
       "    </tr>\n",
       "    <tr>\n",
       "      <td>577</td>\n",
       "      <td>581</td>\n",
       "      <td>Бэлла</td>\n",
       "      <td>https://teddyfood.com/ru/animals/Bella__perm_k...</td>\n",
       "      <td>Котофей</td>\n",
       "      <td>Пермь</td>\n",
       "      <td>Без породы</td>\n",
       "      <td>Кошки</td>\n",
       "      <td>2017-04-20</td>\n",
       "      <td>девочка</td>\n",
       "      <td>0</td>\n",
       "      <td>1</td>\n",
       "      <td>0</td>\n",
       "      <td>0</td>\n",
       "    </tr>\n",
       "    <tr>\n",
       "      <td>592</td>\n",
       "      <td>596</td>\n",
       "      <td>Барс</td>\n",
       "      <td>https://teddyfood.com/ru/animals/Bars/</td>\n",
       "      <td>Котофей</td>\n",
       "      <td>Пермь</td>\n",
       "      <td>Без породы</td>\n",
       "      <td>Кошки</td>\n",
       "      <td>2017-05-20</td>\n",
       "      <td>мальчик</td>\n",
       "      <td>3</td>\n",
       "      <td>1</td>\n",
       "      <td>0</td>\n",
       "      <td>1</td>\n",
       "    </tr>\n",
       "    <tr>\n",
       "      <td>593</td>\n",
       "      <td>597</td>\n",
       "      <td>Брайс</td>\n",
       "      <td>https://teddyfood.com/ru/animals/Bryce/</td>\n",
       "      <td>Котофей</td>\n",
       "      <td>Пермь</td>\n",
       "      <td>Без породы</td>\n",
       "      <td>Кошки</td>\n",
       "      <td>2014-12-29</td>\n",
       "      <td>мальчик</td>\n",
       "      <td>9</td>\n",
       "      <td>1</td>\n",
       "      <td>0</td>\n",
       "      <td>0</td>\n",
       "    </tr>\n",
       "    <tr>\n",
       "      <td>600</td>\n",
       "      <td>604</td>\n",
       "      <td>Шон</td>\n",
       "      <td>https://teddyfood.com/ru/animals/Shon/</td>\n",
       "      <td>Котофей</td>\n",
       "      <td>Пермь</td>\n",
       "      <td>Без породы</td>\n",
       "      <td>Кошки</td>\n",
       "      <td>2014-03-20</td>\n",
       "      <td>мальчик</td>\n",
       "      <td>2</td>\n",
       "      <td>1</td>\n",
       "      <td>0</td>\n",
       "      <td>0</td>\n",
       "    </tr>\n",
       "    <tr>\n",
       "      <td>637</td>\n",
       "      <td>641</td>\n",
       "      <td>Бармалей</td>\n",
       "      <td>https://teddyfood.com/ru/animals/Barmaley/</td>\n",
       "      <td>Котофей</td>\n",
       "      <td>Пермь</td>\n",
       "      <td>Без породы</td>\n",
       "      <td>Кошки</td>\n",
       "      <td>2013-03-20</td>\n",
       "      <td>мальчик</td>\n",
       "      <td>1</td>\n",
       "      <td>1</td>\n",
       "      <td>0</td>\n",
       "      <td>0</td>\n",
       "    </tr>\n",
       "    <tr>\n",
       "      <td>1051</td>\n",
       "      <td>1057</td>\n",
       "      <td>Джинджер</td>\n",
       "      <td>https://teddyfood.com/ru/animals/Ginger_sochi/</td>\n",
       "      <td>Котофей</td>\n",
       "      <td>Сочи</td>\n",
       "      <td>Без породы</td>\n",
       "      <td>Кошки</td>\n",
       "      <td>2017-10-18</td>\n",
       "      <td>девочка</td>\n",
       "      <td>6</td>\n",
       "      <td>1</td>\n",
       "      <td>0</td>\n",
       "      <td>0</td>\n",
       "    </tr>\n",
       "    <tr>\n",
       "      <td>1052</td>\n",
       "      <td>1058</td>\n",
       "      <td>Азура</td>\n",
       "      <td>https://teddyfood.com/ru/animals/Azura/</td>\n",
       "      <td>Котофей</td>\n",
       "      <td>Сочи</td>\n",
       "      <td>Без породы</td>\n",
       "      <td>Кошки</td>\n",
       "      <td>2018-05-18</td>\n",
       "      <td>девочка</td>\n",
       "      <td>8</td>\n",
       "      <td>0</td>\n",
       "      <td>0</td>\n",
       "      <td>0</td>\n",
       "    </tr>\n",
       "    <tr>\n",
       "      <td>1053</td>\n",
       "      <td>1059</td>\n",
       "      <td>Лулу</td>\n",
       "      <td>https://teddyfood.com/ru/animals/Lulu/</td>\n",
       "      <td>Котофей</td>\n",
       "      <td>Сочи</td>\n",
       "      <td>Без породы</td>\n",
       "      <td>Кошки</td>\n",
       "      <td>2019-03-02</td>\n",
       "      <td>девочка</td>\n",
       "      <td>0</td>\n",
       "      <td>1</td>\n",
       "      <td>0</td>\n",
       "      <td>0</td>\n",
       "    </tr>\n",
       "    <tr>\n",
       "      <td>1054</td>\n",
       "      <td>1060</td>\n",
       "      <td>Тристи</td>\n",
       "      <td>https://teddyfood.com/ru/animals/Tristi/</td>\n",
       "      <td>Котофей</td>\n",
       "      <td>Сочи</td>\n",
       "      <td>Без породы</td>\n",
       "      <td>Кошки</td>\n",
       "      <td>2019-03-02</td>\n",
       "      <td>девочка</td>\n",
       "      <td>4</td>\n",
       "      <td>1</td>\n",
       "      <td>0</td>\n",
       "      <td>0</td>\n",
       "    </tr>\n",
       "    <tr>\n",
       "      <td>1093</td>\n",
       "      <td>1100</td>\n",
       "      <td>Афина</td>\n",
       "      <td>https://teddyfood.com/ru/animals/Athena_sochi/</td>\n",
       "      <td>Котофей</td>\n",
       "      <td>Сочи</td>\n",
       "      <td>Без породы</td>\n",
       "      <td>Кошки</td>\n",
       "      <td>2019-04-15</td>\n",
       "      <td>девочка</td>\n",
       "      <td>17</td>\n",
       "      <td>1</td>\n",
       "      <td>0</td>\n",
       "      <td>0</td>\n",
       "    </tr>\n",
       "    <tr>\n",
       "      <td>1094</td>\n",
       "      <td>1101</td>\n",
       "      <td>Гера</td>\n",
       "      <td>https://teddyfood.com/ru/animals/Hera/</td>\n",
       "      <td>Котофей</td>\n",
       "      <td>Сочи</td>\n",
       "      <td>Без породы</td>\n",
       "      <td>Кошки</td>\n",
       "      <td>2019-04-15</td>\n",
       "      <td>девочка</td>\n",
       "      <td>24</td>\n",
       "      <td>0</td>\n",
       "      <td>0</td>\n",
       "      <td>0</td>\n",
       "    </tr>\n",
       "    <tr>\n",
       "      <td>1095</td>\n",
       "      <td>1102</td>\n",
       "      <td>Борей</td>\n",
       "      <td>https://teddyfood.com/ru/animals/Borey/</td>\n",
       "      <td>Котофей</td>\n",
       "      <td>Сочи</td>\n",
       "      <td>Без породы</td>\n",
       "      <td>Кошки</td>\n",
       "      <td>2019-04-15</td>\n",
       "      <td>мальчик</td>\n",
       "      <td>20</td>\n",
       "      <td>0</td>\n",
       "      <td>0</td>\n",
       "      <td>0</td>\n",
       "    </tr>\n",
       "    <tr>\n",
       "      <td>1099</td>\n",
       "      <td>1106</td>\n",
       "      <td>Алмаз</td>\n",
       "      <td>https://teddyfood.com/ru/animals/Almaz/</td>\n",
       "      <td>Котофей</td>\n",
       "      <td>Сочи</td>\n",
       "      <td>Без породы</td>\n",
       "      <td>Кошки</td>\n",
       "      <td>2019-04-16</td>\n",
       "      <td>мальчик</td>\n",
       "      <td>16</td>\n",
       "      <td>0</td>\n",
       "      <td>0</td>\n",
       "      <td>0</td>\n",
       "    </tr>\n",
       "    <tr>\n",
       "      <td>1100</td>\n",
       "      <td>1107</td>\n",
       "      <td>Яшма</td>\n",
       "      <td>https://teddyfood.com/ru/animals/Yashma_sochy/</td>\n",
       "      <td>Котофей</td>\n",
       "      <td>Сочи</td>\n",
       "      <td>Без породы</td>\n",
       "      <td>Кошки</td>\n",
       "      <td>2019-04-16</td>\n",
       "      <td>девочка</td>\n",
       "      <td>15</td>\n",
       "      <td>0</td>\n",
       "      <td>0</td>\n",
       "      <td>0</td>\n",
       "    </tr>\n",
       "    <tr>\n",
       "      <td>1118</td>\n",
       "      <td>1125</td>\n",
       "      <td>Будда</td>\n",
       "      <td>https://teddyfood.com/ru/animals/Buddha/</td>\n",
       "      <td>Котофей</td>\n",
       "      <td>Сочи</td>\n",
       "      <td>Без породы</td>\n",
       "      <td>Кошки</td>\n",
       "      <td>2019-04-27</td>\n",
       "      <td>мальчик</td>\n",
       "      <td>9</td>\n",
       "      <td>1</td>\n",
       "      <td>0</td>\n",
       "      <td>0</td>\n",
       "    </tr>\n",
       "    <tr>\n",
       "      <td>1119</td>\n",
       "      <td>1126</td>\n",
       "      <td>Юнона</td>\n",
       "      <td>https://teddyfood.com/ru/animals/Yunona/</td>\n",
       "      <td>Котофей</td>\n",
       "      <td>Сочи</td>\n",
       "      <td>Без породы</td>\n",
       "      <td>Кошки</td>\n",
       "      <td>2019-04-25</td>\n",
       "      <td>девочка</td>\n",
       "      <td>21</td>\n",
       "      <td>1</td>\n",
       "      <td>1</td>\n",
       "      <td>1</td>\n",
       "    </tr>\n",
       "    <tr>\n",
       "      <td>1208</td>\n",
       "      <td>1215</td>\n",
       "      <td>Агриппина</td>\n",
       "      <td>https://teddyfood.com/ru/animals/Agrippina_sochi/</td>\n",
       "      <td>Котофей</td>\n",
       "      <td>Сочи</td>\n",
       "      <td>Без породы</td>\n",
       "      <td>Кошки</td>\n",
       "      <td>2019-07-12</td>\n",
       "      <td>девочка</td>\n",
       "      <td>0</td>\n",
       "      <td>1</td>\n",
       "      <td>0</td>\n",
       "      <td>0</td>\n",
       "    </tr>\n",
       "    <tr>\n",
       "      <td>1209</td>\n",
       "      <td>1216</td>\n",
       "      <td>Анжелина</td>\n",
       "      <td>https://teddyfood.com/ru/animals/Angelina_sochi/</td>\n",
       "      <td>Котофей</td>\n",
       "      <td>Сочи</td>\n",
       "      <td>Без породы</td>\n",
       "      <td>Кошки</td>\n",
       "      <td>2019-05-29</td>\n",
       "      <td>девочка</td>\n",
       "      <td>4</td>\n",
       "      <td>0</td>\n",
       "      <td>0</td>\n",
       "      <td>0</td>\n",
       "    </tr>\n",
       "    <tr>\n",
       "      <td>1210</td>\n",
       "      <td>1217</td>\n",
       "      <td>Джоли</td>\n",
       "      <td>https://teddyfood.com/ru/animals/Jolie/</td>\n",
       "      <td>Котофей</td>\n",
       "      <td>Сочи</td>\n",
       "      <td>Без породы</td>\n",
       "      <td>Кошки</td>\n",
       "      <td>2019-05-29</td>\n",
       "      <td>девочка</td>\n",
       "      <td>6</td>\n",
       "      <td>0</td>\n",
       "      <td>0</td>\n",
       "      <td>0</td>\n",
       "    </tr>\n",
       "    <tr>\n",
       "      <td>1215</td>\n",
       "      <td>1222</td>\n",
       "      <td>Усик</td>\n",
       "      <td>https://teddyfood.com/ru/animals/Usik/</td>\n",
       "      <td>Котофей</td>\n",
       "      <td>Сочи</td>\n",
       "      <td>Без породы</td>\n",
       "      <td>Кошки</td>\n",
       "      <td>2019-04-09</td>\n",
       "      <td>мальчик</td>\n",
       "      <td>1</td>\n",
       "      <td>1</td>\n",
       "      <td>0</td>\n",
       "      <td>0</td>\n",
       "    </tr>\n",
       "    <tr>\n",
       "      <td>1223</td>\n",
       "      <td>1230</td>\n",
       "      <td>Рошель</td>\n",
       "      <td>https://teddyfood.com/ru/animals/Rochelle/</td>\n",
       "      <td>Котофей</td>\n",
       "      <td>Сочи</td>\n",
       "      <td>Без породы</td>\n",
       "      <td>Кошки</td>\n",
       "      <td>2019-04-10</td>\n",
       "      <td>девочка</td>\n",
       "      <td>9</td>\n",
       "      <td>0</td>\n",
       "      <td>0</td>\n",
       "      <td>0</td>\n",
       "    </tr>\n",
       "    <tr>\n",
       "      <td>1224</td>\n",
       "      <td>1231</td>\n",
       "      <td>Тефи</td>\n",
       "      <td>https://teddyfood.com/ru/animals/Tefi/</td>\n",
       "      <td>Котофей</td>\n",
       "      <td>Сочи</td>\n",
       "      <td>Без породы</td>\n",
       "      <td>Кошки</td>\n",
       "      <td>2019-05-17</td>\n",
       "      <td>девочка</td>\n",
       "      <td>2</td>\n",
       "      <td>0</td>\n",
       "      <td>0</td>\n",
       "      <td>0</td>\n",
       "    </tr>\n",
       "    <tr>\n",
       "      <td>1225</td>\n",
       "      <td>1232</td>\n",
       "      <td>Степа</td>\n",
       "      <td>https://teddyfood.com/ru/animals/Styopa/</td>\n",
       "      <td>Котофей</td>\n",
       "      <td>Сочи</td>\n",
       "      <td>Без породы</td>\n",
       "      <td>Кошки</td>\n",
       "      <td>2019-05-12</td>\n",
       "      <td>мальчик</td>\n",
       "      <td>18</td>\n",
       "      <td>0</td>\n",
       "      <td>0</td>\n",
       "      <td>1</td>\n",
       "    </tr>\n",
       "    <tr>\n",
       "      <td>1226</td>\n",
       "      <td>1233</td>\n",
       "      <td>Боня</td>\n",
       "      <td>https://teddyfood.com/ru/animals/Bonya_sochi/</td>\n",
       "      <td>Котофей</td>\n",
       "      <td>Сочи</td>\n",
       "      <td>Без породы</td>\n",
       "      <td>Кошки</td>\n",
       "      <td>2019-04-05</td>\n",
       "      <td>девочка</td>\n",
       "      <td>0</td>\n",
       "      <td>1</td>\n",
       "      <td>0</td>\n",
       "      <td>0</td>\n",
       "    </tr>\n",
       "    <tr>\n",
       "      <td>1227</td>\n",
       "      <td>1234</td>\n",
       "      <td>Эрек</td>\n",
       "      <td>https://teddyfood.com/ru/animals/Erek/</td>\n",
       "      <td>Котофей</td>\n",
       "      <td>Сочи</td>\n",
       "      <td>Без породы</td>\n",
       "      <td>Кошки</td>\n",
       "      <td>2019-05-06</td>\n",
       "      <td>мальчик</td>\n",
       "      <td>0</td>\n",
       "      <td>1</td>\n",
       "      <td>0</td>\n",
       "      <td>0</td>\n",
       "    </tr>\n",
       "    <tr>\n",
       "      <td>1228</td>\n",
       "      <td>1235</td>\n",
       "      <td>Звездочка</td>\n",
       "      <td>https://teddyfood.com/ru/animals/Zvezdochka_so...</td>\n",
       "      <td>Котофей</td>\n",
       "      <td>Сочи</td>\n",
       "      <td>Без породы</td>\n",
       "      <td>Кошки</td>\n",
       "      <td>2019-04-03</td>\n",
       "      <td>девочка</td>\n",
       "      <td>9</td>\n",
       "      <td>0</td>\n",
       "      <td>0</td>\n",
       "      <td>0</td>\n",
       "    </tr>\n",
       "    <tr>\n",
       "      <td>1255</td>\n",
       "      <td>1262</td>\n",
       "      <td>Квин</td>\n",
       "      <td>https://teddyfood.com/ru/animals/Queen/</td>\n",
       "      <td>Котофей</td>\n",
       "      <td>Сочи</td>\n",
       "      <td>Без породы</td>\n",
       "      <td>Кошки</td>\n",
       "      <td>2019-05-21</td>\n",
       "      <td>девочка</td>\n",
       "      <td>1</td>\n",
       "      <td>1</td>\n",
       "      <td>0</td>\n",
       "      <td>0</td>\n",
       "    </tr>\n",
       "    <tr>\n",
       "      <td>1256</td>\n",
       "      <td>1263</td>\n",
       "      <td>Рокси</td>\n",
       "      <td>https://teddyfood.com/ru/animals/Roxie_sochi/</td>\n",
       "      <td>Котофей</td>\n",
       "      <td>Сочи</td>\n",
       "      <td>Без породы</td>\n",
       "      <td>Кошки</td>\n",
       "      <td>2019-05-21</td>\n",
       "      <td>девочка</td>\n",
       "      <td>3</td>\n",
       "      <td>0</td>\n",
       "      <td>0</td>\n",
       "      <td>0</td>\n",
       "    </tr>\n",
       "    <tr>\n",
       "      <td>1257</td>\n",
       "      <td>1264</td>\n",
       "      <td>Нирвана</td>\n",
       "      <td>https://teddyfood.com/ru/animals/Nirvana/</td>\n",
       "      <td>Котофей</td>\n",
       "      <td>Сочи</td>\n",
       "      <td>Без породы</td>\n",
       "      <td>Кошки</td>\n",
       "      <td>2019-05-21</td>\n",
       "      <td>девочка</td>\n",
       "      <td>5</td>\n",
       "      <td>0</td>\n",
       "      <td>0</td>\n",
       "      <td>0</td>\n",
       "    </tr>\n",
       "    <tr>\n",
       "      <td>1258</td>\n",
       "      <td>1265</td>\n",
       "      <td>Осень и котята</td>\n",
       "      <td>https://teddyfood.com/ru/animals/Osen/</td>\n",
       "      <td>Котофей</td>\n",
       "      <td>Сочи</td>\n",
       "      <td>Без породы</td>\n",
       "      <td>Кошки</td>\n",
       "      <td>2018-08-26</td>\n",
       "      <td>девочка</td>\n",
       "      <td>4</td>\n",
       "      <td>1</td>\n",
       "      <td>0</td>\n",
       "      <td>0</td>\n",
       "    </tr>\n",
       "    <tr>\n",
       "      <td>1259</td>\n",
       "      <td>1266</td>\n",
       "      <td>Пушинка</td>\n",
       "      <td>https://teddyfood.com/ru/animals/Pushinka/</td>\n",
       "      <td>Котофей</td>\n",
       "      <td>Сочи</td>\n",
       "      <td>Без породы</td>\n",
       "      <td>Кошки</td>\n",
       "      <td>2019-05-29</td>\n",
       "      <td>девочка</td>\n",
       "      <td>0</td>\n",
       "      <td>1</td>\n",
       "      <td>0</td>\n",
       "      <td>0</td>\n",
       "    </tr>\n",
       "    <tr>\n",
       "      <td>1260</td>\n",
       "      <td>1267</td>\n",
       "      <td>Индиана</td>\n",
       "      <td>https://teddyfood.com/ru/animals/Indiana_sochi/</td>\n",
       "      <td>Котофей</td>\n",
       "      <td>Сочи</td>\n",
       "      <td>Без породы</td>\n",
       "      <td>Кошки</td>\n",
       "      <td>2019-04-23</td>\n",
       "      <td>девочка</td>\n",
       "      <td>5</td>\n",
       "      <td>0</td>\n",
       "      <td>0</td>\n",
       "      <td>0</td>\n",
       "    </tr>\n",
       "    <tr>\n",
       "      <td>1261</td>\n",
       "      <td>1268</td>\n",
       "      <td>Фрэя</td>\n",
       "      <td>https://teddyfood.com/ru/animals/Freya/</td>\n",
       "      <td>Котофей</td>\n",
       "      <td>Сочи</td>\n",
       "      <td>Без породы</td>\n",
       "      <td>Кошки</td>\n",
       "      <td>2019-05-28</td>\n",
       "      <td>девочка</td>\n",
       "      <td>3</td>\n",
       "      <td>1</td>\n",
       "      <td>0</td>\n",
       "      <td>0</td>\n",
       "    </tr>\n",
       "    <tr>\n",
       "      <td>1262</td>\n",
       "      <td>1269</td>\n",
       "      <td>Агата</td>\n",
       "      <td>https://teddyfood.com/ru/animals/Agatha/</td>\n",
       "      <td>Котофей</td>\n",
       "      <td>Сочи</td>\n",
       "      <td>Без породы</td>\n",
       "      <td>Кошки</td>\n",
       "      <td>2019-04-03</td>\n",
       "      <td>девочка</td>\n",
       "      <td>2</td>\n",
       "      <td>1</td>\n",
       "      <td>0</td>\n",
       "      <td>0</td>\n",
       "    </tr>\n",
       "  </tbody>\n",
       "</table>\n",
       "</div>"
      ],
      "text/plain": [
       "        id        nickname                                       profile_link  \\\n",
       "325    328            Соня          https://teddyfood.com/ru/animals/Sonia_p/   \n",
       "326    329            Амур             https://teddyfood.com/ru/animals/Amur/   \n",
       "341    345          Аватар           https://teddyfood.com/ru/animals/Avatar/   \n",
       "343    347          Кузина          https://teddyfood.com/ru/animals/Cousina/   \n",
       "349    353            Пьер           https://teddyfood.com/ru/animals/Pierre/   \n",
       "359    363      Мандаринка       https://teddyfood.com/ru/animals/Mandarinka/   \n",
       "360    364         Сникерс         https://teddyfood.com/ru/animals/Snickers/   \n",
       "361    365       Канапешка       https://teddyfood.com/ru/animals/Kanapeshka/   \n",
       "383    387          Феликс          https://teddyfood.com/ru/animals/Felix_p/   \n",
       "388    392            Вася        https://teddyfood.com/ru/animals/Vasya_cat/   \n",
       "418    422           Герда          https://teddyfood.com/ru/animals/Gerda_k/   \n",
       "439    443            Лиза         https://teddyfood.com/ru/animals/Liza_p_k/   \n",
       "451    455      Констанция       https://teddyfood.com/ru/animals/Konstancia/   \n",
       "459    463         Графиня         https://teddyfood.com/ru/animals/Countess/   \n",
       "536    540           Рыжик           https://teddyfood.com/ru/animals/Ryzhik/   \n",
       "544    548            Джем            https://teddyfood.com/ru/animals/Jam_k/   \n",
       "577    581           Бэлла  https://teddyfood.com/ru/animals/Bella__perm_k...   \n",
       "592    596            Барс             https://teddyfood.com/ru/animals/Bars/   \n",
       "593    597           Брайс            https://teddyfood.com/ru/animals/Bryce/   \n",
       "600    604             Шон             https://teddyfood.com/ru/animals/Shon/   \n",
       "637    641        Бармалей         https://teddyfood.com/ru/animals/Barmaley/   \n",
       "1051  1057        Джинджер     https://teddyfood.com/ru/animals/Ginger_sochi/   \n",
       "1052  1058           Азура            https://teddyfood.com/ru/animals/Azura/   \n",
       "1053  1059            Лулу             https://teddyfood.com/ru/animals/Lulu/   \n",
       "1054  1060          Тристи           https://teddyfood.com/ru/animals/Tristi/   \n",
       "1093  1100           Афина     https://teddyfood.com/ru/animals/Athena_sochi/   \n",
       "1094  1101            Гера             https://teddyfood.com/ru/animals/Hera/   \n",
       "1095  1102           Борей            https://teddyfood.com/ru/animals/Borey/   \n",
       "1099  1106           Алмаз            https://teddyfood.com/ru/animals/Almaz/   \n",
       "1100  1107            Яшма     https://teddyfood.com/ru/animals/Yashma_sochy/   \n",
       "1118  1125           Будда           https://teddyfood.com/ru/animals/Buddha/   \n",
       "1119  1126           Юнона           https://teddyfood.com/ru/animals/Yunona/   \n",
       "1208  1215       Агриппина  https://teddyfood.com/ru/animals/Agrippina_sochi/   \n",
       "1209  1216        Анжелина   https://teddyfood.com/ru/animals/Angelina_sochi/   \n",
       "1210  1217           Джоли            https://teddyfood.com/ru/animals/Jolie/   \n",
       "1215  1222            Усик             https://teddyfood.com/ru/animals/Usik/   \n",
       "1223  1230          Рошель         https://teddyfood.com/ru/animals/Rochelle/   \n",
       "1224  1231            Тефи             https://teddyfood.com/ru/animals/Tefi/   \n",
       "1225  1232           Степа           https://teddyfood.com/ru/animals/Styopa/   \n",
       "1226  1233            Боня      https://teddyfood.com/ru/animals/Bonya_sochi/   \n",
       "1227  1234            Эрек             https://teddyfood.com/ru/animals/Erek/   \n",
       "1228  1235       Звездочка  https://teddyfood.com/ru/animals/Zvezdochka_so...   \n",
       "1255  1262            Квин            https://teddyfood.com/ru/animals/Queen/   \n",
       "1256  1263           Рокси      https://teddyfood.com/ru/animals/Roxie_sochi/   \n",
       "1257  1264         Нирвана          https://teddyfood.com/ru/animals/Nirvana/   \n",
       "1258  1265  Осень и котята             https://teddyfood.com/ru/animals/Osen/   \n",
       "1259  1266         Пушинка         https://teddyfood.com/ru/animals/Pushinka/   \n",
       "1260  1267         Индиана    https://teddyfood.com/ru/animals/Indiana_sochi/   \n",
       "1261  1268            Фрэя            https://teddyfood.com/ru/animals/Freya/   \n",
       "1262  1269           Агата           https://teddyfood.com/ru/animals/Agatha/   \n",
       "\n",
       "      shelter   city       breed   type    birthday      sex  favorite  home  \\\n",
       "325   Котофей  Пермь  Без породы  Кошки  2015-06-20  девочка         6     1   \n",
       "326   Котофей  Пермь  Без породы  Кошки  2016-02-20  мальчик         2     1   \n",
       "341   Котофей  Пермь  Без породы  Кошки  2015-07-20  мальчик         0     1   \n",
       "343   Котофей  Пермь  Без породы  Кошки  2011-04-20  девочка         3     1   \n",
       "349   Котофей  Пермь  Без породы  Кошки  2013-08-20  мальчик         2     1   \n",
       "359   Котофей  Пермь  Без породы  Кошки  2015-10-10  девочка        10     1   \n",
       "360   Котофей  Пермь  Без породы  Кошки  2016-08-20  мальчик         6     1   \n",
       "361   Котофей  Пермь  Без породы  Кошки  2015-06-20  девочка         3     1   \n",
       "383   Котофей  Пермь  Без породы  Кошки  2016-05-20  мальчик         4     1   \n",
       "388   Котофей  Пермь  Без породы  Кошки  2015-05-20  мальчик         1     1   \n",
       "418   Котофей  Пермь  Без породы  Кошки  2015-10-12  девочка         6     1   \n",
       "439   Котофей  Пермь  Без породы  Кошки  2015-10-22  девочка         4     1   \n",
       "451   Котофей  Пермь  Без породы  Кошки  2011-10-12  девочка         2     0   \n",
       "459   Котофей  Пермь  Без породы  Кошки  2017-01-30  девочка         4     1   \n",
       "536   Котофей  Пермь  Без породы  Кошки  2016-02-20  мальчик         4     1   \n",
       "544   Котофей  Пермь  Без породы  Кошки  2015-02-20  мальчик        15     1   \n",
       "577   Котофей  Пермь  Без породы  Кошки  2017-04-20  девочка         0     1   \n",
       "592   Котофей  Пермь  Без породы  Кошки  2017-05-20  мальчик         3     1   \n",
       "593   Котофей  Пермь  Без породы  Кошки  2014-12-29  мальчик         9     1   \n",
       "600   Котофей  Пермь  Без породы  Кошки  2014-03-20  мальчик         2     1   \n",
       "637   Котофей  Пермь  Без породы  Кошки  2013-03-20  мальчик         1     1   \n",
       "1051  Котофей   Сочи  Без породы  Кошки  2017-10-18  девочка         6     1   \n",
       "1052  Котофей   Сочи  Без породы  Кошки  2018-05-18  девочка         8     0   \n",
       "1053  Котофей   Сочи  Без породы  Кошки  2019-03-02  девочка         0     1   \n",
       "1054  Котофей   Сочи  Без породы  Кошки  2019-03-02  девочка         4     1   \n",
       "1093  Котофей   Сочи  Без породы  Кошки  2019-04-15  девочка        17     1   \n",
       "1094  Котофей   Сочи  Без породы  Кошки  2019-04-15  девочка        24     0   \n",
       "1095  Котофей   Сочи  Без породы  Кошки  2019-04-15  мальчик        20     0   \n",
       "1099  Котофей   Сочи  Без породы  Кошки  2019-04-16  мальчик        16     0   \n",
       "1100  Котофей   Сочи  Без породы  Кошки  2019-04-16  девочка        15     0   \n",
       "1118  Котофей   Сочи  Без породы  Кошки  2019-04-27  мальчик         9     1   \n",
       "1119  Котофей   Сочи  Без породы  Кошки  2019-04-25  девочка        21     1   \n",
       "1208  Котофей   Сочи  Без породы  Кошки  2019-07-12  девочка         0     1   \n",
       "1209  Котофей   Сочи  Без породы  Кошки  2019-05-29  девочка         4     0   \n",
       "1210  Котофей   Сочи  Без породы  Кошки  2019-05-29  девочка         6     0   \n",
       "1215  Котофей   Сочи  Без породы  Кошки  2019-04-09  мальчик         1     1   \n",
       "1223  Котофей   Сочи  Без породы  Кошки  2019-04-10  девочка         9     0   \n",
       "1224  Котофей   Сочи  Без породы  Кошки  2019-05-17  девочка         2     0   \n",
       "1225  Котофей   Сочи  Без породы  Кошки  2019-05-12  мальчик        18     0   \n",
       "1226  Котофей   Сочи  Без породы  Кошки  2019-04-05  девочка         0     1   \n",
       "1227  Котофей   Сочи  Без породы  Кошки  2019-05-06  мальчик         0     1   \n",
       "1228  Котофей   Сочи  Без породы  Кошки  2019-04-03  девочка         9     0   \n",
       "1255  Котофей   Сочи  Без породы  Кошки  2019-05-21  девочка         1     1   \n",
       "1256  Котофей   Сочи  Без породы  Кошки  2019-05-21  девочка         3     0   \n",
       "1257  Котофей   Сочи  Без породы  Кошки  2019-05-21  девочка         5     0   \n",
       "1258  Котофей   Сочи  Без породы  Кошки  2018-08-26  девочка         4     1   \n",
       "1259  Котофей   Сочи  Без породы  Кошки  2019-05-29  девочка         0     1   \n",
       "1260  Котофей   Сочи  Без породы  Кошки  2019-04-23  девочка         5     0   \n",
       "1261  Котофей   Сочи  Без породы  Кошки  2019-05-28  девочка         3     1   \n",
       "1262  Котофей   Сочи  Без породы  Кошки  2019-04-03  девочка         2     1   \n",
       "\n",
       "      homeless  walk  \n",
       "325          0     0  \n",
       "326          0     0  \n",
       "341          0     0  \n",
       "343          0     0  \n",
       "349          0     0  \n",
       "359          0     0  \n",
       "360          0     1  \n",
       "361          0     0  \n",
       "383          0     0  \n",
       "388          0     0  \n",
       "418          0     0  \n",
       "439          1     0  \n",
       "451          0     0  \n",
       "459          0     0  \n",
       "536          0     0  \n",
       "544          0     1  \n",
       "577          0     0  \n",
       "592          0     1  \n",
       "593          0     0  \n",
       "600          0     0  \n",
       "637          0     0  \n",
       "1051         0     0  \n",
       "1052         0     0  \n",
       "1053         0     0  \n",
       "1054         0     0  \n",
       "1093         0     0  \n",
       "1094         0     0  \n",
       "1095         0     0  \n",
       "1099         0     0  \n",
       "1100         0     0  \n",
       "1118         0     0  \n",
       "1119         1     1  \n",
       "1208         0     0  \n",
       "1209         0     0  \n",
       "1210         0     0  \n",
       "1215         0     0  \n",
       "1223         0     0  \n",
       "1224         0     0  \n",
       "1225         0     1  \n",
       "1226         0     0  \n",
       "1227         0     0  \n",
       "1228         0     0  \n",
       "1255         0     0  \n",
       "1256         0     0  \n",
       "1257         0     0  \n",
       "1258         0     0  \n",
       "1259         0     0  \n",
       "1260         0     0  \n",
       "1261         0     0  \n",
       "1262         0     0  "
      ]
     },
     "execution_count": 47,
     "metadata": {},
     "output_type": "execute_result"
    }
   ],
   "source": [
    "pets[pets['shelter'] == 'Котофей'].head(50)"
   ]
  },
  {
   "cell_type": "code",
   "execution_count": 48,
   "metadata": {},
   "outputs": [
    {
     "ename": "AttributeError",
     "evalue": "'dict' object has no attribute 'pivot_table'",
     "output_type": "error",
     "traceback": [
      "\u001b[1;31m---------------------------------------------------------------------------\u001b[0m",
      "\u001b[1;31mAttributeError\u001b[0m                            Traceback (most recent call last)",
      "\u001b[1;32m<ipython-input-48-901e02ddae18>\u001b[0m in \u001b[0;36m<module>\u001b[1;34m\u001b[0m\n\u001b[1;32m----> 1\u001b[1;33m data_pivot = data.pivot_table(index = ['column1', 'column2'], columns = 'source',\n\u001b[0m\u001b[0;32m      2\u001b[0m values = 'column_pivot', aggfunc = 'function')\n\u001b[0;32m      3\u001b[0m \u001b[1;31m# index - столбец или столбцы, по которым происходит группировка данных\u001b[0m\u001b[1;33m\u001b[0m\u001b[1;33m\u001b[0m\u001b[1;33m\u001b[0m\u001b[0m\n\u001b[0;32m      4\u001b[0m \u001b[1;31m# columns - столбец по значениям которого будет происходить группировка\u001b[0m\u001b[1;33m\u001b[0m\u001b[1;33m\u001b[0m\u001b[1;33m\u001b[0m\u001b[0m\n\u001b[0;32m      5\u001b[0m \u001b[1;31m# values - значения, по которым мы хотим увидеть сводную таблицу\u001b[0m\u001b[1;33m\u001b[0m\u001b[1;33m\u001b[0m\u001b[1;33m\u001b[0m\u001b[0m\n",
      "\u001b[1;31mAttributeError\u001b[0m: 'dict' object has no attribute 'pivot_table'"
     ]
    }
   ],
   "source": [
    "data_pivot = data.pivot_table(index = ['column1', 'column2'], columns = 'source',\n",
    "values = 'column_pivot', aggfunc = 'function')\n",
    "# index - столбец или столбцы, по которым происходит группировка данных\n",
    "# columns - столбец по значениям которого будет происходить группировка\n",
    "# values - значения, по которым мы хотим увидеть сводную таблицу\n",
    "# aggfunc - функция, которая будет применяться к значениям"
   ]
  }
 ],
 "metadata": {
  "kernelspec": {
   "display_name": "Python 3",
   "language": "python",
   "name": "python3"
  },
  "language_info": {
   "codemirror_mode": {
    "name": "ipython",
    "version": 3
   },
   "file_extension": ".py",
   "mimetype": "text/x-python",
   "name": "python",
   "nbconvert_exporter": "python",
   "pygments_lexer": "ipython3",
   "version": "3.7.4"
  }
 },
 "nbformat": 4,
 "nbformat_minor": 2
}
